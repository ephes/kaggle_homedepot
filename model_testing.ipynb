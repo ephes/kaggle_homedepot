{
 "cells": [
  {
   "cell_type": "code",
   "execution_count": 295,
   "metadata": {
    "collapsed": true
   },
   "outputs": [],
   "source": [
    "import numpy as np\n",
    "import pandas as pd"
   ]
  },
  {
   "cell_type": "code",
   "execution_count": 296,
   "metadata": {
    "collapsed": true
   },
   "outputs": [],
   "source": [
    "import operator"
   ]
  },
  {
   "cell_type": "code",
   "execution_count": 297,
   "metadata": {
    "collapsed": true
   },
   "outputs": [],
   "source": [
    "import xgboost as xgb"
   ]
  },
  {
   "cell_type": "code",
   "execution_count": 298,
   "metadata": {
    "collapsed": true
   },
   "outputs": [],
   "source": [
    "import seaborn as sns\n",
    "import matplotlib.pyplot as plt\n",
    "%matplotlib inline"
   ]
  },
  {
   "cell_type": "code",
   "execution_count": 299,
   "metadata": {
    "collapsed": true
   },
   "outputs": [],
   "source": [
    "# deactivate false positive warning\n",
    "pd.options.mode.chained_assignment = None"
   ]
  },
  {
   "cell_type": "markdown",
   "metadata": {},
   "source": [
    "# training data"
   ]
  },
  {
   "cell_type": "code",
   "execution_count": 323,
   "metadata": {
    "collapsed": false
   },
   "outputs": [],
   "source": [
    "df_all = pd.read_csv('/tmp/df_all.csv')"
   ]
  },
  {
   "cell_type": "code",
   "execution_count": 324,
   "metadata": {
    "collapsed": false
   },
   "outputs": [],
   "source": [
    "num_train = 74008"
   ]
  },
  {
   "cell_type": "code",
   "execution_count": 325,
   "metadata": {
    "collapsed": false
   },
   "outputs": [
    {
     "data": {
      "text/plain": [
       "3.00    19125\n",
       "2.33    16060\n",
       "2.67    15202\n",
       "2.00    11730\n",
       "1.67     6780\n",
       "1.33     3006\n",
       "1.00     2105\n",
       "Name: relevance, dtype: int64"
      ]
     },
     "execution_count": 325,
     "metadata": {},
     "output_type": "execute_result"
    }
   ],
   "source": [
    "df_train = df_all.iloc[:num_train]\n",
    "df_test = df_all.iloc[num_train:]\n",
    "id_test = df_test['id']\n",
    "y_train = df_train['relevance'].values\n",
    "df_train.relevance.value_counts()"
   ]
  },
  {
   "cell_type": "code",
   "execution_count": 326,
   "metadata": {
    "collapsed": false
   },
   "outputs": [
    {
     "data": {
      "text/plain": [
       "Index(['Unnamed: 0', 'id', 'product_title', 'product_uid', 'relevance',\n",
       "       'search_term', 'product_description', 'attr_count', 'attr_texts',\n",
       "       'brand', 'owl_search_term', 'owl_product_title',\n",
       "       'owl_product_description', 'owl_brand', 'owl_product_info',\n",
       "       'owl_len_of_query', 'owl_len_of_title', 'owl_len_of_description',\n",
       "       'owl_len_of_brand', 'owl_query_in_title', 'owl_query_in_description',\n",
       "       'owl_query_last_word_in_title', 'owl_query_last_word_in_description',\n",
       "       'owl_word_in_title', 'owl_word_in_description', 'owl_ratio_title',\n",
       "       'owl_ratio_description', 'owl_attr', 'owl_word_in_brand',\n",
       "       'owl_ratio_brand', 'owl_brand_feature', 'owl_search_term_feature',\n",
       "       'len_of_query', 'len_of_title', 'twq', 'query_in_title',\n",
       "       'all_text_len_char', 'all_text_len_word', 'all_text_len_ratio',\n",
       "       'search_text_len_char', 'search_text_len_word', 'search_text_len_ratio',\n",
       "       'brand_text_len_char', 'brand_text_len_word', 'brand_text_len_ratio',\n",
       "       'title_text_len_char', 'title_text_len_word', 'title_text_len_ratio',\n",
       "       'desc_text_len_char', 'desc_text_len_word', 'desc_text_len_ratio',\n",
       "       'attr_text_len_char', 'attr_text_len_word', 'attr_text_len_ratio',\n",
       "       'unigram_all', 'unigram_title', 'unigram_description', 'unigram_brand',\n",
       "       'bigram_all', 'bigram_title', 'bigram_description', 'bigram_brand',\n",
       "       'attr_cosine_similarity', 'ngram_title', 'ngram_all',\n",
       "       'unigram_title_all_golden', 'unigram_bigram_desc_desc_golden',\n",
       "       'owl_unigram_title', 'owl_unigram_all', 'jaccard_search_title',\n",
       "       'jaccard_search_desc', 'jaccard_search_brand', 'jaccard_search_attr',\n",
       "       'product_freq', 'bigram_attributes', 'query_id', 'color_id',\n",
       "       'product_width', 'product_height', 'product_depth', 'product_weight',\n",
       "       'product_size', 'unigram_attributes'],\n",
       "      dtype='object')"
      ]
     },
     "execution_count": 326,
     "metadata": {},
     "output_type": "execute_result"
    }
   ],
   "source": [
    "df_train.columns"
   ]
  },
  {
   "cell_type": "code",
   "execution_count": 327,
   "metadata": {
    "collapsed": false
   },
   "outputs": [],
   "source": [
    "numerical_features = []\n",
    "with open('/tmp/numerical', 'r') as f:\n",
    "    for line in f:\n",
    "        numerical_features.append(line.rstrip())"
   ]
  },
  {
   "cell_type": "code",
   "execution_count": 328,
   "metadata": {
    "collapsed": true
   },
   "outputs": [],
   "source": [
    "categorial_features = []\n",
    "with open('/tmp/categorial', 'r') as f:\n",
    "    for line in f:\n",
    "        categorial_features.append(line.rstrip())"
   ]
  },
  {
   "cell_type": "code",
   "execution_count": 329,
   "metadata": {
    "collapsed": false
   },
   "outputs": [
    {
     "data": {
      "text/plain": [
       "(['product_uid',\n",
       "  'owl_len_of_brand',\n",
       "  'title_text_len_char',\n",
       "  'owl_query_in_title',\n",
       "  'owl_brand_feature',\n",
       "  'owl_query_in_description',\n",
       "  'product_freq',\n",
       "  'brand_text_len_word',\n",
       "  'all_text_len_word',\n",
       "  'twq',\n",
       "  'query_id',\n",
       "  'brand_text_len_char',\n",
       "  'attr_text_len_word',\n",
       "  'owl_search_term_feature',\n",
       "  'len_of_title',\n",
       "  'owl_query_last_word_in_description',\n",
       "  'owl_word_in_title',\n",
       "  'owl_len_of_query',\n",
       "  'owl_word_in_brand',\n",
       "  'search_text_len_char',\n",
       "  'owl_query_last_word_in_title',\n",
       "  'color_id',\n",
       "  'owl_len_of_title',\n",
       "  'owl_len_of_description',\n",
       "  'desc_text_len_char',\n",
       "  'search_text_len_word',\n",
       "  'all_text_len_char',\n",
       "  'title_text_len_word',\n",
       "  'desc_text_len_word',\n",
       "  'query_in_title',\n",
       "  'len_of_query',\n",
       "  'attr_text_len_char',\n",
       "  'owl_word_in_description'],\n",
       " ['unigram_attributes',\n",
       "  'unigram_description',\n",
       "  'jaccard_search_attr',\n",
       "  'unigram_title',\n",
       "  'jaccard_search_title',\n",
       "  'ngram_all',\n",
       "  'ngram_title',\n",
       "  'owl_unigram_all',\n",
       "  'attr_text_len_ratio',\n",
       "  'jaccard_search_brand',\n",
       "  'unigram_all',\n",
       "  'bigram_all',\n",
       "  'unigram_bigram_desc_desc_golden',\n",
       "  'jaccard_search_desc',\n",
       "  'bigram_title',\n",
       "  'title_text_len_ratio',\n",
       "  'unigram_brand',\n",
       "  'search_text_len_ratio',\n",
       "  'owl_ratio_title',\n",
       "  'product_depth',\n",
       "  'owl_unigram_title',\n",
       "  'desc_text_len_ratio',\n",
       "  'owl_ratio_brand',\n",
       "  'bigram_description',\n",
       "  'brand_text_len_ratio',\n",
       "  'unigram_title_all_golden',\n",
       "  'all_text_len_ratio',\n",
       "  'owl_ratio_description',\n",
       "  'product_height',\n",
       "  'bigram_brand',\n",
       "  'bigram_attributes',\n",
       "  'product_weight',\n",
       "  'product_size',\n",
       "  'product_width'])"
      ]
     },
     "execution_count": 329,
     "metadata": {},
     "output_type": "execute_result"
    }
   ],
   "source": [
    "categorial_features, numerical_features"
   ]
  },
  {
   "cell_type": "code",
   "execution_count": 307,
   "metadata": {
    "collapsed": false
   },
   "outputs": [
    {
     "data": {
      "text/plain": [
       "(166693, 82)"
      ]
     },
     "execution_count": 307,
     "metadata": {},
     "output_type": "execute_result"
    }
   ],
   "source": [
    "df_test.shape"
   ]
  },
  {
   "cell_type": "code",
   "execution_count": 308,
   "metadata": {
    "collapsed": false
   },
   "outputs": [
    {
     "data": {
      "text/plain": [
       "False"
      ]
     },
     "execution_count": 308,
     "metadata": {},
     "output_type": "execute_result"
    }
   ],
   "source": [
    "'cosine_ngram_title_similarity' in df_all.columns"
   ]
  },
  {
   "cell_type": "markdown",
   "metadata": {},
   "source": [
    "# Transformers"
   ]
  },
  {
   "cell_type": "code",
   "execution_count": 187,
   "metadata": {
    "collapsed": true
   },
   "outputs": [],
   "source": [
    "from sklearn.base import BaseEstimator\n",
    "from sklearn.base import TransformerMixin"
   ]
  },
  {
   "cell_type": "code",
   "execution_count": 275,
   "metadata": {
    "collapsed": false
   },
   "outputs": [],
   "source": [
    "class EmptyFitMixin:\n",
    "    def fit(self, x, y=None):\n",
    "        return self\n",
    "    \n",
    "class ColumnSelector(EmptyFitMixin, BaseEstimator, TransformerMixin):\n",
    "    def __init__(self, columns=None):\n",
    "        if columns is None:\n",
    "            columns = [        \n",
    "                'owl_title_cosine_similarity',\n",
    "                'all_text_len_ratio',\n",
    "                'owl_desc_cosine_similarity',\n",
    "                'title_cosine_similarity',\n",
    "                'all_text_len_char',\n",
    "                'all_cosine_similarity',\n",
    "                'cosine_ngram_title_similarity',\n",
    "                'title_text_len_ratio',\n",
    "                'cosine_desc_attr_golden',\n",
    "                'cosine_ngram_alltext_similarity',\n",
    "                'cosine_title_all_golden',\n",
    "                'desc_text_len_ratio',\n",
    "                'attr_cosine_similarity',\n",
    "                'jaccard_search_desc',\n",
    "                'desc_cosine_similarity',\n",
    "                'title_text_len_char',\n",
    "                'search_text_len_ratio',\n",
    "                'desc_text_len_char',\n",
    "                'attr_text_len_char',\n",
    "                'owl_brand_feature',\n",
    "                'jaccard_search_attr',\n",
    "                'attr_count',\n",
    "                'jaccard_search_title',\n",
    "                'len_of_title',\n",
    "                'search_text_len_char',\n",
    "                'all_text_len_word',\n",
    "                'desc_text_len_word',\n",
    "                'product_freq',\n",
    "                'owl_search_term_feature',\n",
    "                'attr_text_len_word',\n",
    "                'brand_text_len_char',\n",
    "                'owl_len_of_description',\n",
    "                'brand_text_len_ratio',\n",
    "                'owl_len_of_title',\n",
    "                'owl_ratio_title',\n",
    "                'owl_ratio_description',\n",
    "                'len_of_query',\n",
    "                'query_in_title',\n",
    "                'owl_word_in_title',\n",
    "                'owl_word_in_description',\n",
    "                'owl_len_of_query',\n",
    "                'jaccard_search_brand',\n",
    "                'owl_ratio_brand',\n",
    "                'brand_text_len_word',\n",
    "                'owl_query_last_word_in_description',\n",
    "                'owl_query_last_word_in_title',\n",
    "                'owl_query_in_description',\n",
    "                'owl_len_of_brand',\n",
    "                'owl_word_in_brand',\n",
    "                'twq',\n",
    "                'owl_query_in_title',\n",
    "            ]\n",
    "        self.columns = columns\n",
    "\n",
    "    def transform(self, data):\n",
    "        return data[self.columns].values"
   ]
  },
  {
   "cell_type": "code",
   "execution_count": 189,
   "metadata": {
    "collapsed": true
   },
   "outputs": [],
   "source": [
    "from sklearn.base import BaseEstimator\n",
    "from sklearn.base import TransformerMixin"
   ]
  },
  {
   "cell_type": "code",
   "execution_count": 190,
   "metadata": {
    "collapsed": true
   },
   "outputs": [],
   "source": [
    "class cust_txt_col(BaseEstimator, TransformerMixin):\n",
    "    def __init__(self, key):\n",
    "        self.key = key\n",
    "    def fit(self, x, y=None):\n",
    "        return self\n",
    "    def transform(self, data_dict):\n",
    "        return data_dict[self.key].apply(str)"
   ]
  },
  {
   "cell_type": "markdown",
   "metadata": {},
   "source": [
    "# Scorer"
   ]
  },
  {
   "cell_type": "code",
   "execution_count": 191,
   "metadata": {
    "collapsed": true
   },
   "outputs": [],
   "source": [
    "from sklearn.metrics import mean_squared_error, make_scorer\n",
    "\n",
    "def fmean_squared_error(ground_truth, predictions):\n",
    "    fmean_squared_error_ = mean_squared_error(ground_truth, predictions)**0.5\n",
    "    return fmean_squared_error_"
   ]
  },
  {
   "cell_type": "code",
   "execution_count": 192,
   "metadata": {
    "collapsed": true
   },
   "outputs": [],
   "source": [
    "RMSE = make_scorer(fmean_squared_error, greater_is_better=False)"
   ]
  },
  {
   "cell_type": "markdown",
   "metadata": {},
   "source": [
    "# Models"
   ]
  },
  {
   "cell_type": "code",
   "execution_count": 193,
   "metadata": {
    "collapsed": true
   },
   "outputs": [],
   "source": [
    "class ClippedMixin:\n",
    "    def predict(self, X):\n",
    "        predictions = super().predict(X)\n",
    "        return np.clip(predictions, 1, 3)"
   ]
  },
  {
   "cell_type": "code",
   "execution_count": 340,
   "metadata": {
    "collapsed": false
   },
   "outputs": [],
   "source": [
    "from sklearn.ensemble import RandomForestRegressor\n",
    "\n",
    "class ClippedRF(ClippedMixin, RandomForestRegressor):\n",
    "    pass\n",
    "\n",
    "#rfr = RandomForestRegressor(n_estimators=500, max_features=10, max_depth=20, n_jobs=-1, random_state=2016, verbose=1)\n",
    "#rfr = ClippedRF(n_estimators=500, max_features=10, max_depth=20, n_jobs=-1, random_state=2016, verbose=0)\n",
    "rfr = RandomForestRegressor(n_estimators=15000, n_jobs=-1, min_samples_split=3, random_state=2016)"
   ]
  },
  {
   "cell_type": "code",
   "execution_count": 195,
   "metadata": {
    "collapsed": true
   },
   "outputs": [],
   "source": [
    "from sklearn.ensemble import ExtraTreesRegressor\n",
    "\n",
    "class ClippedETR(ClippedMixin, RandomForestRegressor):\n",
    "    pass\n",
    "\n",
    "etr = ClippedETR(n_estimators=100, random_state=0)"
   ]
  },
  {
   "cell_type": "code",
   "execution_count": 196,
   "metadata": {
    "collapsed": true
   },
   "outputs": [],
   "source": [
    "from sklearn.linear_model import LinearRegression\n",
    "\n",
    "class ClippedLR(ClippedMixin, LinearRegression):\n",
    "    pass\n",
    "\n",
    "#lrm = LinearRegression(normalize=True)\n",
    "lrm = ClippedLR(normalize=True)"
   ]
  },
  {
   "cell_type": "code",
   "execution_count": 338,
   "metadata": {
    "collapsed": false
   },
   "outputs": [],
   "source": [
    "from xgboost import XGBRegressor\n",
    "#xgr = XGBRegressor(n_estimators=100, max_depth=10)\n",
    "\n",
    "class ClippedXGB(ClippedMixin, XGBRegressor):\n",
    "    pass\n",
    "\n",
    "#xgr = XGBRegressor(n_estimators=100, max_depth=6)\n",
    "#xgr = ClippedXGB(n_estimators=100, max_depth=10, learning_rate=0.05,\n",
    "#                 min_child_weight=1.5, colsample_bytree=0.5)\n",
    "xgr = ClippedXGB(n_estimators=100, max_depth=10, learning_rate=0.05,\n",
    "                 min_child_weight=1.5, colsample_bytree=0.5)"
   ]
  },
  {
   "cell_type": "code",
   "execution_count": 198,
   "metadata": {
    "collapsed": true
   },
   "outputs": [],
   "source": [
    "from sklearn.linear_model import Ridge\n",
    "rdg = Ridge(alpha=0.1)"
   ]
  },
  {
   "cell_type": "code",
   "execution_count": 199,
   "metadata": {
    "collapsed": true
   },
   "outputs": [],
   "source": [
    "from sklearn.linear_model import Lasso\n",
    "lso = Lasso(alpha=0.2)"
   ]
  },
  {
   "cell_type": "code",
   "execution_count": 200,
   "metadata": {
    "collapsed": true
   },
   "outputs": [],
   "source": [
    "from sklearn.linear_model import SGDRegressor\n",
    "sgd = SGDRegressor(alpha=0.0001, average=False, epsilon=0.1, eta0=0.01,\n",
    "             fit_intercept=True, l1_ratio=0.15, learning_rate='invscaling',\n",
    "             loss='squared_loss', n_iter=5, penalty='l2', power_t=0.25,\n",
    "             random_state=None, shuffle=True, verbose=0, warm_start=False)"
   ]
  },
  {
   "cell_type": "code",
   "execution_count": 201,
   "metadata": {
    "collapsed": true
   },
   "outputs": [],
   "source": [
    "class Ensemble:\n",
    "    def __init__(self, clfs):\n",
    "        self.clfs = clfs\n",
    "        self.sum_weights = float(sum([w for c, w in self.clfs]))\n",
    "        \n",
    "    def fit(self, X, y):\n",
    "        for clf, weight in self.clfs:\n",
    "            clf.fit(X, y)\n",
    "    \n",
    "    def predict(self, X):\n",
    "        result = np.zeros(X.shape[0])\n",
    "        for clf, weight in self.clfs:\n",
    "            prediction = clf.predict(X)\n",
    "            result += weight * prediction\n",
    "        return result / self.sum_weights"
   ]
  },
  {
   "cell_type": "code",
   "execution_count": 202,
   "metadata": {
    "collapsed": true
   },
   "outputs": [],
   "source": [
    "clfs = (\n",
    "    (xgr, 10.0),\n",
    "    (lrm, 1.0),\n",
    "    (rfr, 10.0),\n",
    ")\n",
    "ens = Ensemble(clfs)"
   ]
  },
  {
   "cell_type": "code",
   "execution_count": 203,
   "metadata": {
    "collapsed": true
   },
   "outputs": [],
   "source": [
    "import os"
   ]
  },
  {
   "cell_type": "code",
   "execution_count": 204,
   "metadata": {
    "collapsed": true
   },
   "outputs": [],
   "source": [
    "import subprocess"
   ]
  },
  {
   "cell_type": "code",
   "execution_count": 205,
   "metadata": {
    "collapsed": false
   },
   "outputs": [],
   "source": [
    "class VowpalWabbit:\n",
    "    def __init__(self, numerical, categorial):\n",
    "        self.numerical = list(numerical)\n",
    "        self.categorial = list(categorial)\n",
    "        self.numerical.extend(categorial)\n",
    "        \n",
    "    def set_paths(self, fold):\n",
    "        self.model_path = '/tmp/vw.model.{}'.format(fold)\n",
    "        self.cache_path = '/tmp/vw.cache.{}'.format(fold)\n",
    "        self.train_path = '/tmp/vw.train.csv.{}'.format(fold)\n",
    "        self.test_path = '/tmp/vw.test.csv.{}'.format(fold)\n",
    "        self.pred_path = '/tmp/vw.predictions.csv.{}'.format(fold)\n",
    "\n",
    "    def df_to_vw(self, df, path, numerical, categorial):\n",
    "        with open(path, 'w') as f:\n",
    "            for _, row in df.iterrows():\n",
    "                numerical_features = []\n",
    "                for i, name in enumerate(numerical, 1):\n",
    "                    val = row[name]\n",
    "                    if val > 0:\n",
    "                        numerical_features.append(\"I{}:{}\".format(i, str(float(val))))\n",
    "                categorial_features = []\n",
    "                for i, name in enumerate(categorial):\n",
    "                    val = str(row[name])\n",
    "                    categorial_features.append(\"{}_{}\".format(i, val))\n",
    "                #search_term = row.search_term.replace(':', '')\n",
    "                search_term = row.owl_search_term.replace(':', '')\n",
    "                #product_title = row.product_title.replace(':', '')\n",
    "                product_title = row.owl_product_title.replace(':', '')\n",
    "                f.write( \"{} '{} |i {} |c {} |s {} |t {}\\n\".format(\n",
    "                    row.relevance, _, ' '.join(numerical_features),\n",
    "                    ' '.join(categorial_features), search_term, product_title))\n",
    "                #f.write( \"{} '{} |i {} |s {} |t {}\\n\".format(\n",
    "                #    row.relevance, _, ' '.join(numerical_features),\n",
    "                #    ' '.join(categorial_features), search_term,\n",
    "                #    product_title))\n",
    "                #if _ > 1000:\n",
    "                #    break\n",
    "\n",
    "    def fit(self, train, y, fold):\n",
    "        self.set_paths(fold)\n",
    "        if not os.path.exists(self.train_path):\n",
    "            self.df_to_vw(train, self.train_path, self.numerical, self.categorial)\n",
    "        #args = ['vw', '-q', 'ii', '--passes',  '20', '--cache_file',\n",
    "        #        '{}'.format(self.cache_path), '--ngram', '2', '-l',  '0.2', '-b',  '26',\n",
    "        #        self.train_path, \"-f\", self.model_path] # 0.4794139395931289\n",
    "        #args = ['vw', '--passes',  '20', '--cache_file',\n",
    "        #        '{}'.format(self.cache_path), '--ngram', '2', '-l',  '0.2', '-b',  '26',\n",
    "        #        self.train_path, \"-f\", self.model_path] # 0.48079364856949125\n",
    "        #args = ['vw', '--passes',  '20', '--cache_file',\n",
    "        #        '{}'.format(self.cache_path), '-l',  '0.2', '-b',  '26',\n",
    "        #        self.train_path, \"-f\", self.model_path] # 0.4808270703468825\n",
    "        #args = ['vw', '--passes',  '20', '--cache_file',\n",
    "        #        '{}'.format(self.cache_path), '-l',  '0.0125', '-b',  '26',\n",
    "        #        self.train_path, \"-f\", self.model_path] # 0.4644757402628758\n",
    "        #args = ['vw', '-q', 'st', '--ngram', '2', '--passes',  '20', '--cache_file',\n",
    "        #        '{}'.format(self.cache_path), '-l',  '0.0125', '-b',  '26',\n",
    "        #        self.train_path, \"-f\", self.model_path] # 0.4681503483301988\n",
    "        #args = ['vw', '-q', 'ci', '--ngram', '2', '--passes',  '20', '--cache_file',\n",
    "        #        '{}'.format(self.cache_path), '-l',  '0.0125', '-b',  '26',\n",
    "        #        self.train_path, \"-f\", self.model_path] # 0.4636858894216699\n",
    "        args = ['vw', '--ngram', '2', '--passes',  '20', '--cache_file',\n",
    "                '{}'.format(self.cache_path), '-l',  '0.0125', '-b',  '26',\n",
    "                self.train_path, \"-f\", self.model_path] # 0.4636858894216699\n",
    "\n",
    "\n",
    "        #print(' '.join(args))\n",
    "        subprocess.check_call(args)\n",
    "        \n",
    "    def predict(self, test, fold):\n",
    "        self.set_paths(fold)\n",
    "        if not os.path.exists(self.test_path):\n",
    "            self.df_to_vw(test, self.test_path, self.numerical, self.categorial)\n",
    "        args = [\"vw\", self.test_path, \"-t\", \"-i\", self.model_path, \"-p\", self.pred_path]\n",
    "        subprocess.check_call(args)\n",
    "        predictions = []\n",
    "        with open(self.pred_path, \"rb\") as f:\n",
    "            for line in f:\n",
    "                predictions.append(float(line.split()[0]))\n",
    "        return np.array(predictions)"
   ]
  },
  {
   "cell_type": "code",
   "execution_count": 206,
   "metadata": {
    "collapsed": false
   },
   "outputs": [],
   "source": [
    "from sklearn.feature_extraction.text import TfidfVectorizer\n",
    "from sklearn.decomposition import TruncatedSVD\n",
    "tfidf = TfidfVectorizer(ngram_range=(1, 1), stop_words='english')\n",
    "tsvd = TruncatedSVD(n_components=10, random_state=2016)"
   ]
  },
  {
   "cell_type": "code",
   "execution_count": 207,
   "metadata": {
    "collapsed": false
   },
   "outputs": [],
   "source": [
    "#numerical_features"
   ]
  },
  {
   "cell_type": "markdown",
   "metadata": {},
   "source": [
    "# Grid Search"
   ]
  },
  {
   "cell_type": "code",
   "execution_count": 208,
   "metadata": {
    "collapsed": true
   },
   "outputs": [],
   "source": [
    "from sklearn import grid_search\n",
    "from sklearn.pipeline import Pipeline\n",
    "from sklearn.pipeline import FeatureUnion"
   ]
  },
  {
   "cell_type": "code",
   "execution_count": 342,
   "metadata": {
    "collapsed": false
   },
   "outputs": [],
   "source": [
    "clf = Pipeline([\n",
    "    ('union', FeatureUnion(\n",
    "        transformer_list = [\n",
    "            ('categorial',  ColumnSelector(columns=categorial_features)),\n",
    "            ('numerical', ColumnSelector(columns=numerical_features)),\n",
    "#            ('txt1', Pipeline([\n",
    "#                ('s1', cust_txt_col(key='owl_search_term')),\n",
    "#                ('tfidf1', tfidf),\n",
    "#                ('tsvd1', tsvd)\n",
    "#            ])),\n",
    "            ('txt2', Pipeline([\n",
    "                ('s2', cust_txt_col(key='owl_product_title')),\n",
    "                ('tfidf2', tfidf),\n",
    "                ('tsvd2', tsvd)\n",
    "            ])),\n",
    "#            ('txt3', Pipeline([\n",
    "#                ('s3', cust_txt_col(key='owl_product_description')),\n",
    "#                ('tfidf3', tfidf),\n",
    "#                ('tsvd3', tsvd)\n",
    "#            ])),\n",
    "#            ('txt4', Pipeline([\n",
    "#                ('s4', cust_txt_col(key='owl_brand')),\n",
    "#                ('tfidf4', tfidf),\n",
    "#                ('tsvd4', tsvd)\n",
    "#            ]))\n",
    "        ],\n",
    "        transformer_weights = {\n",
    "            'categorial': 1.0,\n",
    "            'numerical': 1.0,\n",
    "            #'txt1': 0.5,\n",
    "            'txt2': 0.1,\n",
    "            #'txt3': 0.0,\n",
    "            #'txt4': 0.5\n",
    "        },\n",
    "    #n_jobs = -1\n",
    "    )), \n",
    "    ('rfr', rfr)]\n",
    "    #('lrm', lrm)]\n",
    "    #('xgr', xgr)]\n",
    "    #('etr', etr)]\n",
    "    #('ens', ens)]\n",
    "    #('rdg', rdg)]\n",
    "    #('lso', lso)]\n",
    "    #('sgd', sgd)]\n",
    ")"
   ]
  },
  {
   "cell_type": "code",
   "execution_count": 139,
   "metadata": {
    "collapsed": true
   },
   "outputs": [],
   "source": [
    "from sklearn.cross_validation import StratifiedKFold"
   ]
  },
  {
   "cell_type": "code",
   "execution_count": 21,
   "metadata": {
    "collapsed": false
   },
   "outputs": [
    {
     "name": "stdout",
     "output_type": "stream",
     "text": [
      "Fitting 5 folds for each of 1 candidates, totalling 5 fits\n",
      "[CV]  ................................................................\n",
      "[CV] ...................................... , score=-0.462972 -   4.4s\n",
      "[CV]  ................................................................\n"
     ]
    },
    {
     "name": "stderr",
     "output_type": "stream",
     "text": [
      "[Parallel(n_jobs=1)]: Done   1 tasks       | elapsed:    4.4s\n"
     ]
    },
    {
     "name": "stdout",
     "output_type": "stream",
     "text": [
      "[CV] ...................................... , score=-0.462701 -   4.1s\n",
      "[CV]  ................................................................\n"
     ]
    },
    {
     "name": "stderr",
     "output_type": "stream",
     "text": [
      "[Parallel(n_jobs=1)]: Done   2 tasks       | elapsed:    8.5s\n"
     ]
    },
    {
     "name": "stdout",
     "output_type": "stream",
     "text": [
      "[CV] ...................................... , score=-0.464938 -   4.4s\n",
      "[CV]  ................................................................\n"
     ]
    },
    {
     "name": "stderr",
     "output_type": "stream",
     "text": [
      "[Parallel(n_jobs=1)]: Done   3 tasks       | elapsed:   13.0s\n"
     ]
    },
    {
     "name": "stdout",
     "output_type": "stream",
     "text": [
      "[CV] ...................................... , score=-0.462192 -   4.4s\n",
      "[CV]  ................................................................\n"
     ]
    },
    {
     "name": "stderr",
     "output_type": "stream",
     "text": [
      "[Parallel(n_jobs=1)]: Done   4 tasks       | elapsed:   17.4s\n"
     ]
    },
    {
     "name": "stdout",
     "output_type": "stream",
     "text": [
      "[CV] ...................................... , score=-0.463932 -   4.5s\n",
      "CPU times: user 1min 23s, sys: 7.48 s, total: 1min 31s\n",
      "Wall time: 22 s\n"
     ]
    },
    {
     "name": "stderr",
     "output_type": "stream",
     "text": [
      "[Parallel(n_jobs=1)]: Done   5 tasks       | elapsed:   21.9s\n",
      "[Parallel(n_jobs=1)]: Done   5 out of   5 | elapsed:   21.9s finished\n"
     ]
    }
   ],
   "source": [
    "%%time\n",
    "param_grid = {}\n",
    "#param_grid = {'rfr__max_features': [10, 20], 'rfr__max_depth': [10, 20]}\n",
    "#param_grid = {'xgr__n_estimators': [95, 100, 105], 'xgr__max_depth': [8, 9, 10],\n",
    "#              'xgr__learning_rate': [0.05, 0.1, 0.15], 'xgr__min_child_weight': [0.5, 1, 1.5],\n",
    "#              'xgr__colsample_bytree': [0.3, 0.5, 1.0]}\n",
    "#param_grid = {'xgr__n_estimators': [95, 100], 'xgr__max_depth': [9, 10],\n",
    "#              'xgr__learning_rate': [0.05, 0.1, 0.15], 'xgr__min_child_weight': [0.5, 1, 1.5],\n",
    "#              'xgr__colsample_bytree': [0.3, 0.5, 1.0]}\n",
    "model = grid_search.GridSearchCV(estimator=clf, param_grid=param_grid, refit=False,\n",
    "                                 n_jobs=1, cv=StratifiedKFold(y_train, n_folds=5, shuffle=True),\n",
    "                                 verbose=20, scoring=RMSE)\n",
    "model.fit(df_train, y_train)"
   ]
  },
  {
   "cell_type": "code",
   "execution_count": 399,
   "metadata": {
    "collapsed": false
   },
   "outputs": [
    {
     "name": "stdout",
     "output_type": "stream",
     "text": [
      "Best parameters found by grid search:\n"
     ]
    },
    {
     "ename": "AttributeError",
     "evalue": "'ClippedXGB' object has no attribute 'best_params_'",
     "output_type": "error",
     "traceback": [
      "\u001b[0;31m---------------------------------------------------------------------------\u001b[0m",
      "\u001b[0;31mAttributeError\u001b[0m                            Traceback (most recent call last)",
      "\u001b[0;32m<ipython-input-399-cb85fdb7b5a3>\u001b[0m in \u001b[0;36m<module>\u001b[0;34m()\u001b[0m\n\u001b[1;32m      1\u001b[0m \u001b[0mprint\u001b[0m\u001b[0;34m(\u001b[0m\u001b[0;34m\"Best parameters found by grid search:\"\u001b[0m\u001b[0;34m)\u001b[0m\u001b[0;34m\u001b[0m\u001b[0m\n\u001b[0;32m----> 2\u001b[0;31m \u001b[0mprint\u001b[0m\u001b[0;34m(\u001b[0m\u001b[0mmodel\u001b[0m\u001b[0;34m.\u001b[0m\u001b[0mbest_params_\u001b[0m\u001b[0;34m)\u001b[0m\u001b[0;34m\u001b[0m\u001b[0m\n\u001b[0m\u001b[1;32m      3\u001b[0m \u001b[0mprint\u001b[0m\u001b[0;34m(\u001b[0m\u001b[0;34m\"Best CV score:\"\u001b[0m\u001b[0;34m)\u001b[0m\u001b[0;34m\u001b[0m\u001b[0m\n\u001b[1;32m      4\u001b[0m \u001b[0mprint\u001b[0m\u001b[0;34m(\u001b[0m\u001b[0mmodel\u001b[0m\u001b[0;34m.\u001b[0m\u001b[0mbest_score_\u001b[0m\u001b[0;34m)\u001b[0m\u001b[0;34m\u001b[0m\u001b[0m\n\u001b[1;32m      5\u001b[0m \u001b[0mprint\u001b[0m\u001b[0;34m(\u001b[0m\u001b[0mmodel\u001b[0m\u001b[0;34m.\u001b[0m\u001b[0mbest_score_\u001b[0m \u001b[0;34m+\u001b[0m \u001b[0;36m0.47003199274\u001b[0m\u001b[0;34m)\u001b[0m\u001b[0;34m\u001b[0m\u001b[0m\n",
      "\u001b[0;31mAttributeError\u001b[0m: 'ClippedXGB' object has no attribute 'best_params_'"
     ]
    }
   ],
   "source": [
    "print(\"Best parameters found by grid search:\")\n",
    "print(model.best_params_)\n",
    "print(\"Best CV score:\")\n",
    "print(model.best_score_)\n",
    "print(model.best_score_ + 0.47003199274)"
   ]
  },
  {
   "cell_type": "code",
   "execution_count": 27,
   "metadata": {
    "collapsed": false
   },
   "outputs": [
    {
     "name": "stdout",
     "output_type": "stream",
     "text": [
      "Best parameters found by grid search:\n",
      "{}\n",
      "Best CV score:\n",
      "-0.461086204419\n",
      "0.00894578832114\n"
     ]
    }
   ],
   "source": [
    "print(\"Best parameters found by grid search:\")\n",
    "print(model.best_params_)\n",
    "print(\"Best CV score:\")\n",
    "print(model.best_score_)\n",
    "print(model.best_score_ + 0.47003199274)"
   ]
  },
  {
   "cell_type": "code",
   "execution_count": 22,
   "metadata": {
    "collapsed": false
   },
   "outputs": [
    {
     "name": "stdout",
     "output_type": "stream",
     "text": [
      "Best parameters found by grid search:\n",
      "{}\n",
      "Best CV score:\n",
      "-0.463347035809\n",
      "0.00668495693136\n"
     ]
    }
   ],
   "source": [
    "print(\"Best parameters found by grid search:\")\n",
    "print(model.best_params_)\n",
    "print(\"Best CV score:\")\n",
    "print(model.best_score_)\n",
    "print(model.best_score_ + 0.47003199274)"
   ]
  },
  {
   "cell_type": "code",
   "execution_count": 23,
   "metadata": {
    "collapsed": false
   },
   "outputs": [
    {
     "name": "stdout",
     "output_type": "stream",
     "text": [
      "Best parameters found by grid search:\n",
      "{}\n",
      "Best CV score:\n",
      "-0.476459511834\n",
      "-0.00642751909417\n"
     ]
    }
   ],
   "source": [
    "print(\"Best parameters found by grid search:\")\n",
    "print(model.best_params_)\n",
    "print(\"Best CV score:\")\n",
    "print(model.best_score_)\n",
    "print(model.best_score_ + 0.47003199274)"
   ]
  },
  {
   "cell_type": "code",
   "execution_count": 78,
   "metadata": {
    "collapsed": false
   },
   "outputs": [
    {
     "name": "stdout",
     "output_type": "stream",
     "text": [
      "Best parameters found by grid search:\n",
      "{}\n",
      "Best CV score:\n",
      "-0.478250176914\n",
      "-0.00821818417378\n"
     ]
    }
   ],
   "source": [
    "print(\"Best parameters found by grid search:\")\n",
    "print(model.best_params_)\n",
    "print(\"Best CV score:\")\n",
    "print(model.best_score_)\n",
    "print(model.best_score_ + 0.47003199274)"
   ]
  },
  {
   "cell_type": "code",
   "execution_count": 119,
   "metadata": {
    "collapsed": false
   },
   "outputs": [],
   "source": [
    "#dir(model)"
   ]
  },
  {
   "cell_type": "code",
   "execution_count": 27,
   "metadata": {
    "collapsed": false
   },
   "outputs": [
    {
     "data": {
      "text/plain": [
       "make_scorer(fmean_squared_error, greater_is_better=False)"
      ]
     },
     "execution_count": 27,
     "metadata": {},
     "output_type": "execute_result"
    }
   ],
   "source": [
    "model.scoring"
   ]
  },
  {
   "cell_type": "markdown",
   "metadata": {},
   "source": [
    "# error"
   ]
  },
  {
   "cell_type": "code",
   "execution_count": 88,
   "metadata": {
    "collapsed": false
   },
   "outputs": [],
   "source": [
    "df_train['error'] = 0.0"
   ]
  },
  {
   "cell_type": "code",
   "execution_count": 89,
   "metadata": {
    "collapsed": false
   },
   "outputs": [],
   "source": [
    "df_train['pred'] = 0.0"
   ]
  },
  {
   "cell_type": "code",
   "execution_count": 169,
   "metadata": {
    "collapsed": true
   },
   "outputs": [],
   "source": [
    "def evaluate(clf):\n",
    "    scores = []\n",
    "    errors = []\n",
    "    cross_validation = StratifiedKFold(y_train, n_folds=5, shuffle=True, random_state=2016)\n",
    "    for fold, (train, test) in enumerate(cross_validation):\n",
    "        clf.fit(df_train.ix[train], y_train[train], fold)\n",
    "        pred = clf.predict(df_train.ix[test], fold)\n",
    "        score = mean_squared_error(y_train[test], pred) ** 0.5\n",
    "        print(score)\n",
    "        scores.append(score)\n",
    "        tmp_errors = []\n",
    "        for p, t, i in zip(pred, y_train[test], df_train.index[test]):\n",
    "            err = (t - p) ** 2\n",
    "            tmp_errors.append(err)\n",
    "            df_train.set_value(i, 'error', err)\n",
    "            df_train.set_value(i, 'pred', p)\n",
    "        errors.extend(tmp_errors)\n",
    "        #print(tmp_errors)\n",
    "        tmp_errors = np.array(tmp_errors)\n",
    "        #print('manual: {}'.format(np.average(tmp_errors) ** 0.5))\n",
    "    print('all: {}'.format(sum(scores)/float(len(scores))))\n",
    "    #print('manual all: {}'.format(np.average(errors) ** 0.5))"
   ]
  },
  {
   "cell_type": "code",
   "execution_count": 141,
   "metadata": {
    "collapsed": false
   },
   "outputs": [
    {
     "name": "stdout",
     "output_type": "stream",
     "text": [
      "0.464862144528\n",
      "0.464243730374\n",
      "0.462674146201\n",
      "0.462798346068\n",
      "0.463851079938\n",
      "all: 0.4636858894216699\n"
     ]
    }
   ],
   "source": [
    "evaluate(VowpalWabbit(numerical_features, categorial_features))"
   ]
  },
  {
   "cell_type": "code",
   "execution_count": 94,
   "metadata": {
    "collapsed": false
   },
   "outputs": [
    {
     "name": "stdout",
     "output_type": "stream",
     "text": [
      "0.470301309736\n",
      "0.469439699798\n",
      "0.468414296957\n",
      "0.468949903216\n",
      "0.47025705797\n",
      "all: 0.4694724535353464\n"
     ]
    }
   ],
   "source": [
    "evaluate(VowpalWabbit(numerical_features, categorial_features))"
   ]
  },
  {
   "cell_type": "code",
   "execution_count": 97,
   "metadata": {
    "collapsed": false
   },
   "outputs": [
    {
     "data": {
      "text/plain": [
       "'product_uid'"
      ]
     },
     "execution_count": 97,
     "metadata": {},
     "output_type": "execute_result"
    }
   ],
   "source": [
    "#VowpalWabbit(numerical_features, categorial_features).my_numerical[60]"
   ]
  },
  {
   "cell_type": "code",
   "execution_count": 111,
   "metadata": {
    "collapsed": false
   },
   "outputs": [
    {
     "name": "stdout",
     "output_type": "stream",
     "text": [
      "61\n",
      "0.468971271531\n",
      "0.467745825465\n",
      "0.46599973705\n",
      "0.465904643172\n",
      "0.469638935574\n",
      "all: 0.46765208255844987\n"
     ]
    }
   ],
   "source": [
    "evaluate(VowpalWabbit(numerical_features, categorial_features))"
   ]
  },
  {
   "cell_type": "code",
   "execution_count": 173,
   "metadata": {
    "collapsed": false
   },
   "outputs": [
    {
     "name": "stdout",
     "output_type": "stream",
     "text": [
      "0.469048584102\n",
      "0.467683583215\n",
      "0.465849245228\n",
      "0.465955907432\n",
      "0.469314953136\n",
      "all: 0.4675704546223761\n"
     ]
    }
   ],
   "source": [
    "evaluate(VowpalWabbit(numerical_features, categorial_features))"
   ]
  },
  {
   "cell_type": "code",
   "execution_count": 212,
   "metadata": {
    "collapsed": false
   },
   "outputs": [],
   "source": [
    "def evaluate(clf):\n",
    "    scores = []\n",
    "    errors = []\n",
    "    #X = ColumnSelector().transform(df_train)\n",
    "    for train, test in StratifiedKFold(y_train, n_folds=5, shuffle=True, random_state=2016):\n",
    "        clf.fit(df_train.ix[train], y_train[train])\n",
    "        pred = clf.predict(df_train.ix[test])\n",
    "        score = mean_squared_error(y_train[test], pred) ** 0.5\n",
    "        print(score)\n",
    "        scores.append(score)\n",
    "        tmp_errors = []\n",
    "        for p, t, i in zip(pred, y_train[test], df_train.index[test]):\n",
    "            err = (t - p) ** 2\n",
    "            tmp_errors.append(err)\n",
    "            df_train.set_value(i, 'error', err)\n",
    "            df_train.set_value(i, 'pred', p)\n",
    "        errors.extend(tmp_errors)\n",
    "        #print(tmp_errors)\n",
    "        tmp_errors = np.array(tmp_errors)\n",
    "        #print('manual: {}'.format(np.average(tmp_errors) ** 0.5))\n",
    "    print('all: {}'.format(sum(scores)/float(len(scores))))\n",
    "    #print('manual all: {}'.format(np.average(errors) ** 0.5))"
   ]
  },
  {
   "cell_type": "code",
   "execution_count": 407,
   "metadata": {
    "collapsed": false
   },
   "outputs": [
    {
     "name": "stderr",
     "output_type": "stream",
     "text": [
      "[Parallel(n_jobs=-1)]: Done  34 tasks      | elapsed:    3.6s\n",
      "[Parallel(n_jobs=-1)]: Done 184 tasks      | elapsed:   16.8s\n",
      "[Parallel(n_jobs=-1)]: Done 434 tasks      | elapsed:   38.7s\n",
      "[Parallel(n_jobs=-1)]: Done 500 out of 500 | elapsed:   43.9s finished\n",
      "[Parallel(n_jobs=8)]: Done  34 tasks      | elapsed:    0.1s\n",
      "[Parallel(n_jobs=8)]: Done 184 tasks      | elapsed:    0.3s\n",
      "[Parallel(n_jobs=8)]: Done 434 tasks      | elapsed:    0.6s\n",
      "[Parallel(n_jobs=8)]: Done 500 out of 500 | elapsed:    0.7s finished\n"
     ]
    },
    {
     "name": "stdout",
     "output_type": "stream",
     "text": [
      "0.455789970049\n"
     ]
    },
    {
     "name": "stderr",
     "output_type": "stream",
     "text": [
      "[Parallel(n_jobs=-1)]: Done  34 tasks      | elapsed:    3.2s\n",
      "[Parallel(n_jobs=-1)]: Done 184 tasks      | elapsed:   15.9s\n",
      "[Parallel(n_jobs=-1)]: Done 434 tasks      | elapsed:   37.4s\n",
      "[Parallel(n_jobs=-1)]: Done 500 out of 500 | elapsed:   42.9s finished\n",
      "[Parallel(n_jobs=8)]: Done  34 tasks      | elapsed:    0.0s\n",
      "[Parallel(n_jobs=8)]: Done 184 tasks      | elapsed:    0.2s\n",
      "[Parallel(n_jobs=8)]: Done 434 tasks      | elapsed:    0.4s\n",
      "[Parallel(n_jobs=8)]: Done 500 out of 500 | elapsed:    0.5s finished\n"
     ]
    },
    {
     "name": "stdout",
     "output_type": "stream",
     "text": [
      "0.452827168108\n"
     ]
    },
    {
     "name": "stderr",
     "output_type": "stream",
     "text": [
      "[Parallel(n_jobs=-1)]: Done  34 tasks      | elapsed:    3.3s\n",
      "[Parallel(n_jobs=-1)]: Done 184 tasks      | elapsed:   15.4s\n",
      "[Parallel(n_jobs=-1)]: Done 434 tasks      | elapsed:   37.5s\n",
      "[Parallel(n_jobs=-1)]: Done 500 out of 500 | elapsed:   43.2s finished\n",
      "[Parallel(n_jobs=8)]: Done  34 tasks      | elapsed:    0.0s\n",
      "[Parallel(n_jobs=8)]: Done 184 tasks      | elapsed:    0.2s\n",
      "[Parallel(n_jobs=8)]: Done 434 tasks      | elapsed:    0.4s\n",
      "[Parallel(n_jobs=8)]: Done 500 out of 500 | elapsed:    0.5s finished\n"
     ]
    },
    {
     "name": "stdout",
     "output_type": "stream",
     "text": [
      "0.453986514522\n"
     ]
    },
    {
     "name": "stderr",
     "output_type": "stream",
     "text": [
      "[Parallel(n_jobs=-1)]: Done  34 tasks      | elapsed:    3.1s\n",
      "[Parallel(n_jobs=-1)]: Done 184 tasks      | elapsed:   15.0s\n",
      "[Parallel(n_jobs=-1)]: Done 434 tasks      | elapsed:   36.3s\n",
      "[Parallel(n_jobs=-1)]: Done 500 out of 500 | elapsed:   41.9s finished\n",
      "[Parallel(n_jobs=8)]: Done  34 tasks      | elapsed:    0.0s\n",
      "[Parallel(n_jobs=8)]: Done 184 tasks      | elapsed:    0.2s\n",
      "[Parallel(n_jobs=8)]: Done 434 tasks      | elapsed:    0.4s\n",
      "[Parallel(n_jobs=8)]: Done 500 out of 500 | elapsed:    0.4s finished\n"
     ]
    },
    {
     "name": "stdout",
     "output_type": "stream",
     "text": [
      "0.452160692053\n"
     ]
    },
    {
     "name": "stderr",
     "output_type": "stream",
     "text": [
      "[Parallel(n_jobs=-1)]: Done  34 tasks      | elapsed:    3.3s\n",
      "[Parallel(n_jobs=-1)]: Done 184 tasks      | elapsed:   15.9s\n",
      "[Parallel(n_jobs=-1)]: Done 434 tasks      | elapsed:   36.5s\n",
      "[Parallel(n_jobs=-1)]: Done 500 out of 500 | elapsed:   41.8s finished\n",
      "[Parallel(n_jobs=8)]: Done  34 tasks      | elapsed:    0.0s\n",
      "[Parallel(n_jobs=8)]: Done 184 tasks      | elapsed:    0.2s\n",
      "[Parallel(n_jobs=8)]: Done 434 tasks      | elapsed:    0.4s\n",
      "[Parallel(n_jobs=8)]: Done 500 out of 500 | elapsed:    0.4s finished\n"
     ]
    },
    {
     "name": "stdout",
     "output_type": "stream",
     "text": [
      "0.454785990063\n",
      "all: 0.4539100669589998\n",
      "CPU times: user 26min 44s, sys: 20.2 s, total: 27min 4s\n",
      "Wall time: 4min 31s\n"
     ]
    }
   ],
   "source": [
    "%%time\n",
    "evaluate(clf)"
   ]
  },
  {
   "cell_type": "code",
   "execution_count": 256,
   "metadata": {
    "collapsed": false
   },
   "outputs": [
    {
     "name": "stdout",
     "output_type": "stream",
     "text": [
      "CPU times: user 6min 9s, sys: 4.94 s, total: 6min 14s\n",
      "Wall time: 54.6 s\n"
     ]
    },
    {
     "data": {
      "text/plain": [
       "Pipeline(steps=[('union', FeatureUnion(n_jobs=1,\n",
       "       transformer_list=[('categorial', ColumnSelector(columns=['owl_len_of_query', 'owl_len_of_title', 'owl_len_of_description', 'owl_len_of_brand', 'owl_query_in_title', 'owl_query_in_description', 'owl_query_last_word_in_title', 'owl_query_last_word_in_desc...erical': 1.0, 'categorial': 1.0, 'txt2': 0.1})), ('ens', <__main__.Ensemble object at 0x178bc7e10>)])"
      ]
     },
     "execution_count": 256,
     "metadata": {},
     "output_type": "execute_result"
    }
   ],
   "source": [
    "%%time\n",
    "clf.fit(df_train, y_train)"
   ]
  },
  {
   "cell_type": "code",
   "execution_count": 255,
   "metadata": {
    "collapsed": false
   },
   "outputs": [
    {
     "name": "stdout",
     "output_type": "stream",
     "text": [
      "0.455068801143\n",
      "0.452087132302\n",
      "0.452411973723\n",
      "0.450911096285\n",
      "0.45386921352\n",
      "all: 0.452869643394563\n",
      "CPU times: user 25min 54s, sys: 22.4 s, total: 26min 17s\n",
      "Wall time: 3min 48s\n"
     ]
    }
   ],
   "source": [
    "%%time\n",
    "evaluate(clf)"
   ]
  },
  {
   "cell_type": "code",
   "execution_count": 141,
   "metadata": {
    "collapsed": false
   },
   "outputs": [
    {
     "name": "stdout",
     "output_type": "stream",
     "text": [
      "0.456991271871\n",
      "0.453615659299\n",
      "0.456016285529\n",
      "0.453421421376\n",
      "0.455816676503\n",
      "all: 0.45517226291563767\n",
      "CPU times: user 3min 29s, sys: 13.7 s, total: 3min 43s\n",
      "Wall time: 49.3 s\n"
     ]
    }
   ],
   "source": [
    "%%time\n",
    "evaluate(clf)"
   ]
  },
  {
   "cell_type": "code",
   "execution_count": 143,
   "metadata": {
    "collapsed": false
   },
   "outputs": [
    {
     "name": "stdout",
     "output_type": "stream",
     "text": [
      "0.4561507338\n",
      "0.452509987497\n",
      "0.452895004897\n",
      "0.451215705626\n",
      "0.454167836004\n",
      "all: 0.45338785356484984\n",
      "CPU times: user 22min 28s, sys: 10.2 s, total: 22min 38s\n",
      "Wall time: 3min 8s\n"
     ]
    }
   ],
   "source": [
    "%%time\n",
    "evaluate(clf)"
   ]
  },
  {
   "cell_type": "code",
   "execution_count": 161,
   "metadata": {
    "collapsed": false
   },
   "outputs": [
    {
     "name": "stdout",
     "output_type": "stream",
     "text": [
      "0.45519468154\n",
      "0.452078035858\n",
      "0.452711600393\n",
      "0.451522311504\n",
      "0.453705121136\n",
      "all: 0.45304235008652294\n",
      "CPU times: user 25min 58s, sys: 22.2 s, total: 26min 20s\n",
      "Wall time: 3min 47s\n"
     ]
    }
   ],
   "source": [
    "%%time\n",
    "evaluate(clf)"
   ]
  },
  {
   "cell_type": "code",
   "execution_count": 213,
   "metadata": {
    "collapsed": false
   },
   "outputs": [
    {
     "name": "stdout",
     "output_type": "stream",
     "text": [
      "0.457508723426\n",
      "0.454482839888\n",
      "0.456322725939\n",
      "0.453723357998\n",
      "0.45625048172\n",
      "all: 0.4556576257942602\n",
      "CPU times: user 3min 37s, sys: 12.6 s, total: 3min 50s\n",
      "Wall time: 48.1 s\n"
     ]
    }
   ],
   "source": [
    "%%time # xgb\n",
    "evaluate(clf)"
   ]
  },
  {
   "cell_type": "code",
   "execution_count": 241,
   "metadata": {
    "collapsed": false
   },
   "outputs": [
    {
     "name": "stdout",
     "output_type": "stream",
     "text": [
      "0.456971240355\n",
      "0.454938036809\n",
      "0.454990214405\n",
      "0.45360384618\n",
      "0.456481803353\n",
      "all: 0.45539702822039974\n",
      "CPU times: user 3min 26s, sys: 12.5 s, total: 3min 38s\n",
      "Wall time: 44.9 s\n"
     ]
    }
   ],
   "source": [
    "%%time \n",
    "evaluate(clf) # xgb"
   ]
  },
  {
   "cell_type": "code",
   "execution_count": 262,
   "metadata": {
    "collapsed": false
   },
   "outputs": [
    {
     "name": "stdout",
     "output_type": "stream",
     "text": [
      "0.458375220791\n",
      "0.455061651254\n",
      "0.456011333487\n",
      "0.455428618662\n",
      "0.456877108265\n",
      "all: 0.45635078649185157\n",
      "CPU times: user 2min 53s, sys: 10.9 s, total: 3min 4s\n",
      "Wall time: 34.3 s\n"
     ]
    }
   ],
   "source": [
    "%%time \n",
    "evaluate(clf) # xgb"
   ]
  },
  {
   "cell_type": "code",
   "execution_count": 294,
   "metadata": {
    "collapsed": false
   },
   "outputs": [
    {
     "name": "stdout",
     "output_type": "stream",
     "text": [
      "0.457926943659\n",
      "0.45492967326\n",
      "0.455780817297\n",
      "0.455834125689\n",
      "0.456157587673\n",
      "all: 0.45612582951566283\n",
      "CPU times: user 3min 16s, sys: 12.1 s, total: 3min 28s\n",
      "Wall time: 38.3 s\n"
     ]
    }
   ],
   "source": [
    "%%time \n",
    "evaluate(clf) # xgb"
   ]
  },
  {
   "cell_type": "code",
   "execution_count": 311,
   "metadata": {
    "collapsed": false
   },
   "outputs": [
    {
     "name": "stdout",
     "output_type": "stream",
     "text": [
      "0.458048491359\n",
      "0.455139045528\n",
      "0.455396956703\n",
      "0.455453689463\n",
      "0.456883310118\n",
      "all: 0.45618429863389\n",
      "CPU times: user 3min 8s, sys: 11.4 s, total: 3min 20s\n",
      "Wall time: 37.1 s\n"
     ]
    }
   ],
   "source": [
    "%%time \n",
    "evaluate(clf) # xgb"
   ]
  },
  {
   "cell_type": "code",
   "execution_count": 339,
   "metadata": {
    "collapsed": false
   },
   "outputs": [
    {
     "name": "stdout",
     "output_type": "stream",
     "text": [
      "0.458115750596\n",
      "0.455053469066\n",
      "0.455055939649\n",
      "0.454963514734\n",
      "0.456674618075\n",
      "all: 0.45597265842400175\n",
      "CPU times: user 2min 58s, sys: 11.3 s, total: 3min 9s\n",
      "Wall time: 36.2 s\n"
     ]
    }
   ],
   "source": [
    "%%time \n",
    "evaluate(clf) # xgb"
   ]
  },
  {
   "cell_type": "code",
   "execution_count": 222,
   "metadata": {
    "collapsed": false
   },
   "outputs": [
    {
     "name": "stdout",
     "output_type": "stream",
     "text": [
      "0.455739469578\n",
      "0.451923920684\n",
      "0.452477651447\n",
      "0.45074818665\n",
      "0.454370873657\n",
      "all: 0.4530520204032504\n",
      "CPU times: user 22min 24s, sys: 11 s, total: 22min 35s\n",
      "Wall time: 3min 9s\n"
     ]
    }
   ],
   "source": [
    "%%time\n",
    "evaluate(clf) # rfr"
   ]
  },
  {
   "cell_type": "code",
   "execution_count": 250,
   "metadata": {
    "collapsed": false
   },
   "outputs": [
    {
     "name": "stdout",
     "output_type": "stream",
     "text": [
      "0.455999388801\n",
      "0.451890178362\n",
      "0.452489251703\n",
      "0.450677179829\n",
      "0.454074331344\n",
      "all: 0.4530260660076807\n",
      "CPU times: user 22min, sys: 9.67 s, total: 22min 10s\n",
      "Wall time: 3min 1s\n"
     ]
    }
   ],
   "source": [
    "%%time\n",
    "evaluate(clf) # rfr"
   ]
  },
  {
   "cell_type": "code",
   "execution_count": 318,
   "metadata": {
    "collapsed": false
   },
   "outputs": [
    {
     "name": "stdout",
     "output_type": "stream",
     "text": [
      "0.457115529755\n",
      "0.453133052223\n",
      "0.453167836232\n",
      "0.452219991768\n",
      "0.45552536178\n",
      "all: 0.4542323543515264\n",
      "CPU times: user 19min 20s, sys: 10.1 s, total: 19min 31s\n",
      "Wall time: 2min 38s\n"
     ]
    }
   ],
   "source": [
    "%%time\n",
    "evaluate(clf) # rfr"
   ]
  },
  {
   "cell_type": "code",
   "execution_count": 343,
   "metadata": {
    "collapsed": false
   },
   "outputs": [
    {
     "ename": "KeyboardInterrupt",
     "evalue": "",
     "output_type": "error",
     "traceback": [
      "\u001b[0;31m---------------------------------------------------------------------------\u001b[0m",
      "\u001b[0;31mKeyboardInterrupt\u001b[0m                         Traceback (most recent call last)",
      "\u001b[0;32m<ipython-input-343-3107395b030d>\u001b[0m in \u001b[0;36m<module>\u001b[0;34m()\u001b[0m\n\u001b[0;32m----> 1\u001b[0;31m \u001b[0mget_ipython\u001b[0m\u001b[0;34m(\u001b[0m\u001b[0;34m)\u001b[0m\u001b[0;34m.\u001b[0m\u001b[0mrun_cell_magic\u001b[0m\u001b[0;34m(\u001b[0m\u001b[0;34m'time'\u001b[0m\u001b[0;34m,\u001b[0m \u001b[0;34m''\u001b[0m\u001b[0;34m,\u001b[0m \u001b[0;34m'evaluate(clf) # rfr'\u001b[0m\u001b[0;34m)\u001b[0m\u001b[0;34m\u001b[0m\u001b[0m\n\u001b[0m",
      "\u001b[0;32m/Users/jochen/miniconda3/envs/homedepot/lib/python3.5/site-packages/IPython/core/interactiveshell.py\u001b[0m in \u001b[0;36mrun_cell_magic\u001b[0;34m(self, magic_name, line, cell)\u001b[0m\n\u001b[1;32m   2118\u001b[0m             \u001b[0mmagic_arg_s\u001b[0m \u001b[0;34m=\u001b[0m \u001b[0mself\u001b[0m\u001b[0;34m.\u001b[0m\u001b[0mvar_expand\u001b[0m\u001b[0;34m(\u001b[0m\u001b[0mline\u001b[0m\u001b[0;34m,\u001b[0m \u001b[0mstack_depth\u001b[0m\u001b[0;34m)\u001b[0m\u001b[0;34m\u001b[0m\u001b[0m\n\u001b[1;32m   2119\u001b[0m             \u001b[0;32mwith\u001b[0m \u001b[0mself\u001b[0m\u001b[0;34m.\u001b[0m\u001b[0mbuiltin_trap\u001b[0m\u001b[0;34m:\u001b[0m\u001b[0;34m\u001b[0m\u001b[0m\n\u001b[0;32m-> 2120\u001b[0;31m                 \u001b[0mresult\u001b[0m \u001b[0;34m=\u001b[0m \u001b[0mfn\u001b[0m\u001b[0;34m(\u001b[0m\u001b[0mmagic_arg_s\u001b[0m\u001b[0;34m,\u001b[0m \u001b[0mcell\u001b[0m\u001b[0;34m)\u001b[0m\u001b[0;34m\u001b[0m\u001b[0m\n\u001b[0m\u001b[1;32m   2121\u001b[0m             \u001b[0;32mreturn\u001b[0m \u001b[0mresult\u001b[0m\u001b[0;34m\u001b[0m\u001b[0m\n\u001b[1;32m   2122\u001b[0m \u001b[0;34m\u001b[0m\u001b[0m\n",
      "\u001b[0;32m<decorator-gen-60>\u001b[0m in \u001b[0;36mtime\u001b[0;34m(self, line, cell, local_ns)\u001b[0m\n",
      "\u001b[0;32m/Users/jochen/miniconda3/envs/homedepot/lib/python3.5/site-packages/IPython/core/magic.py\u001b[0m in \u001b[0;36m<lambda>\u001b[0;34m(f, *a, **k)\u001b[0m\n\u001b[1;32m    191\u001b[0m     \u001b[0;31m# but it's overkill for just that one bit of state.\u001b[0m\u001b[0;34m\u001b[0m\u001b[0;34m\u001b[0m\u001b[0m\n\u001b[1;32m    192\u001b[0m     \u001b[0;32mdef\u001b[0m \u001b[0mmagic_deco\u001b[0m\u001b[0;34m(\u001b[0m\u001b[0marg\u001b[0m\u001b[0;34m)\u001b[0m\u001b[0;34m:\u001b[0m\u001b[0;34m\u001b[0m\u001b[0m\n\u001b[0;32m--> 193\u001b[0;31m         \u001b[0mcall\u001b[0m \u001b[0;34m=\u001b[0m \u001b[0;32mlambda\u001b[0m \u001b[0mf\u001b[0m\u001b[0;34m,\u001b[0m \u001b[0;34m*\u001b[0m\u001b[0ma\u001b[0m\u001b[0;34m,\u001b[0m \u001b[0;34m**\u001b[0m\u001b[0mk\u001b[0m\u001b[0;34m:\u001b[0m \u001b[0mf\u001b[0m\u001b[0;34m(\u001b[0m\u001b[0;34m*\u001b[0m\u001b[0ma\u001b[0m\u001b[0;34m,\u001b[0m \u001b[0;34m**\u001b[0m\u001b[0mk\u001b[0m\u001b[0;34m)\u001b[0m\u001b[0;34m\u001b[0m\u001b[0m\n\u001b[0m\u001b[1;32m    194\u001b[0m \u001b[0;34m\u001b[0m\u001b[0m\n\u001b[1;32m    195\u001b[0m         \u001b[0;32mif\u001b[0m \u001b[0mcallable\u001b[0m\u001b[0;34m(\u001b[0m\u001b[0marg\u001b[0m\u001b[0;34m)\u001b[0m\u001b[0;34m:\u001b[0m\u001b[0;34m\u001b[0m\u001b[0m\n",
      "\u001b[0;32m/Users/jochen/miniconda3/envs/homedepot/lib/python3.5/site-packages/IPython/core/magics/execution.py\u001b[0m in \u001b[0;36mtime\u001b[0;34m(self, line, cell, local_ns)\u001b[0m\n\u001b[1;32m   1171\u001b[0m         \u001b[0;32mif\u001b[0m \u001b[0mmode\u001b[0m\u001b[0;34m==\u001b[0m\u001b[0;34m'eval'\u001b[0m\u001b[0;34m:\u001b[0m\u001b[0;34m\u001b[0m\u001b[0m\n\u001b[1;32m   1172\u001b[0m             \u001b[0mst\u001b[0m \u001b[0;34m=\u001b[0m \u001b[0mclock2\u001b[0m\u001b[0;34m(\u001b[0m\u001b[0;34m)\u001b[0m\u001b[0;34m\u001b[0m\u001b[0m\n\u001b[0;32m-> 1173\u001b[0;31m             \u001b[0mout\u001b[0m \u001b[0;34m=\u001b[0m \u001b[0meval\u001b[0m\u001b[0;34m(\u001b[0m\u001b[0mcode\u001b[0m\u001b[0;34m,\u001b[0m \u001b[0mglob\u001b[0m\u001b[0;34m,\u001b[0m \u001b[0mlocal_ns\u001b[0m\u001b[0;34m)\u001b[0m\u001b[0;34m\u001b[0m\u001b[0m\n\u001b[0m\u001b[1;32m   1174\u001b[0m             \u001b[0mend\u001b[0m \u001b[0;34m=\u001b[0m \u001b[0mclock2\u001b[0m\u001b[0;34m(\u001b[0m\u001b[0;34m)\u001b[0m\u001b[0;34m\u001b[0m\u001b[0m\n\u001b[1;32m   1175\u001b[0m         \u001b[0;32melse\u001b[0m\u001b[0;34m:\u001b[0m\u001b[0;34m\u001b[0m\u001b[0m\n",
      "\u001b[0;32m<timed eval>\u001b[0m in \u001b[0;36m<module>\u001b[0;34m()\u001b[0m\n",
      "\u001b[0;32m<ipython-input-212-f02287223d4d>\u001b[0m in \u001b[0;36mevaluate\u001b[0;34m(clf)\u001b[0m\n\u001b[1;32m      4\u001b[0m     \u001b[0;31m#X = ColumnSelector().transform(df_train)\u001b[0m\u001b[0;34m\u001b[0m\u001b[0;34m\u001b[0m\u001b[0m\n\u001b[1;32m      5\u001b[0m     \u001b[0;32mfor\u001b[0m \u001b[0mtrain\u001b[0m\u001b[0;34m,\u001b[0m \u001b[0mtest\u001b[0m \u001b[0;32min\u001b[0m \u001b[0mStratifiedKFold\u001b[0m\u001b[0;34m(\u001b[0m\u001b[0my_train\u001b[0m\u001b[0;34m,\u001b[0m \u001b[0mn_folds\u001b[0m\u001b[0;34m=\u001b[0m\u001b[0;36m5\u001b[0m\u001b[0;34m,\u001b[0m \u001b[0mshuffle\u001b[0m\u001b[0;34m=\u001b[0m\u001b[0;32mTrue\u001b[0m\u001b[0;34m,\u001b[0m \u001b[0mrandom_state\u001b[0m\u001b[0;34m=\u001b[0m\u001b[0;36m2016\u001b[0m\u001b[0;34m)\u001b[0m\u001b[0;34m:\u001b[0m\u001b[0;34m\u001b[0m\u001b[0m\n\u001b[0;32m----> 6\u001b[0;31m         \u001b[0mclf\u001b[0m\u001b[0;34m.\u001b[0m\u001b[0mfit\u001b[0m\u001b[0;34m(\u001b[0m\u001b[0mdf_train\u001b[0m\u001b[0;34m.\u001b[0m\u001b[0mix\u001b[0m\u001b[0;34m[\u001b[0m\u001b[0mtrain\u001b[0m\u001b[0;34m]\u001b[0m\u001b[0;34m,\u001b[0m \u001b[0my_train\u001b[0m\u001b[0;34m[\u001b[0m\u001b[0mtrain\u001b[0m\u001b[0;34m]\u001b[0m\u001b[0;34m)\u001b[0m\u001b[0;34m\u001b[0m\u001b[0m\n\u001b[0m\u001b[1;32m      7\u001b[0m         \u001b[0mpred\u001b[0m \u001b[0;34m=\u001b[0m \u001b[0mclf\u001b[0m\u001b[0;34m.\u001b[0m\u001b[0mpredict\u001b[0m\u001b[0;34m(\u001b[0m\u001b[0mdf_train\u001b[0m\u001b[0;34m.\u001b[0m\u001b[0mix\u001b[0m\u001b[0;34m[\u001b[0m\u001b[0mtest\u001b[0m\u001b[0;34m]\u001b[0m\u001b[0;34m)\u001b[0m\u001b[0;34m\u001b[0m\u001b[0m\n\u001b[1;32m      8\u001b[0m         \u001b[0mscore\u001b[0m \u001b[0;34m=\u001b[0m \u001b[0mmean_squared_error\u001b[0m\u001b[0;34m(\u001b[0m\u001b[0my_train\u001b[0m\u001b[0;34m[\u001b[0m\u001b[0mtest\u001b[0m\u001b[0;34m]\u001b[0m\u001b[0;34m,\u001b[0m \u001b[0mpred\u001b[0m\u001b[0;34m)\u001b[0m \u001b[0;34m**\u001b[0m \u001b[0;36m0.5\u001b[0m\u001b[0;34m\u001b[0m\u001b[0m\n",
      "\u001b[0;32m/Users/jochen/miniconda3/envs/homedepot/lib/python3.5/site-packages/sklearn/pipeline.py\u001b[0m in \u001b[0;36mfit\u001b[0;34m(self, X, y, **fit_params)\u001b[0m\n\u001b[1;32m    163\u001b[0m         \"\"\"\n\u001b[1;32m    164\u001b[0m         \u001b[0mXt\u001b[0m\u001b[0;34m,\u001b[0m \u001b[0mfit_params\u001b[0m \u001b[0;34m=\u001b[0m \u001b[0mself\u001b[0m\u001b[0;34m.\u001b[0m\u001b[0m_pre_transform\u001b[0m\u001b[0;34m(\u001b[0m\u001b[0mX\u001b[0m\u001b[0;34m,\u001b[0m \u001b[0my\u001b[0m\u001b[0;34m,\u001b[0m \u001b[0;34m**\u001b[0m\u001b[0mfit_params\u001b[0m\u001b[0;34m)\u001b[0m\u001b[0;34m\u001b[0m\u001b[0m\n\u001b[0;32m--> 165\u001b[0;31m         \u001b[0mself\u001b[0m\u001b[0;34m.\u001b[0m\u001b[0msteps\u001b[0m\u001b[0;34m[\u001b[0m\u001b[0;34m-\u001b[0m\u001b[0;36m1\u001b[0m\u001b[0;34m]\u001b[0m\u001b[0;34m[\u001b[0m\u001b[0;34m-\u001b[0m\u001b[0;36m1\u001b[0m\u001b[0;34m]\u001b[0m\u001b[0;34m.\u001b[0m\u001b[0mfit\u001b[0m\u001b[0;34m(\u001b[0m\u001b[0mXt\u001b[0m\u001b[0;34m,\u001b[0m \u001b[0my\u001b[0m\u001b[0;34m,\u001b[0m \u001b[0;34m**\u001b[0m\u001b[0mfit_params\u001b[0m\u001b[0;34m)\u001b[0m\u001b[0;34m\u001b[0m\u001b[0m\n\u001b[0m\u001b[1;32m    166\u001b[0m         \u001b[0;32mreturn\u001b[0m \u001b[0mself\u001b[0m\u001b[0;34m\u001b[0m\u001b[0m\n\u001b[1;32m    167\u001b[0m \u001b[0;34m\u001b[0m\u001b[0m\n",
      "\u001b[0;32m/Users/jochen/miniconda3/envs/homedepot/lib/python3.5/site-packages/sklearn/ensemble/forest.py\u001b[0m in \u001b[0;36mfit\u001b[0;34m(self, X, y, sample_weight)\u001b[0m\n\u001b[1;32m    288\u001b[0m                     \u001b[0mt\u001b[0m\u001b[0;34m,\u001b[0m \u001b[0mself\u001b[0m\u001b[0;34m,\u001b[0m \u001b[0mX\u001b[0m\u001b[0;34m,\u001b[0m \u001b[0my\u001b[0m\u001b[0;34m,\u001b[0m \u001b[0msample_weight\u001b[0m\u001b[0;34m,\u001b[0m \u001b[0mi\u001b[0m\u001b[0;34m,\u001b[0m \u001b[0mlen\u001b[0m\u001b[0;34m(\u001b[0m\u001b[0mtrees\u001b[0m\u001b[0;34m)\u001b[0m\u001b[0;34m,\u001b[0m\u001b[0;34m\u001b[0m\u001b[0m\n\u001b[1;32m    289\u001b[0m                     verbose=self.verbose, class_weight=self.class_weight)\n\u001b[0;32m--> 290\u001b[0;31m                 for i, t in enumerate(trees))\n\u001b[0m\u001b[1;32m    291\u001b[0m \u001b[0;34m\u001b[0m\u001b[0m\n\u001b[1;32m    292\u001b[0m             \u001b[0;31m# Collect newly grown trees\u001b[0m\u001b[0;34m\u001b[0m\u001b[0;34m\u001b[0m\u001b[0m\n",
      "\u001b[0;32m/Users/jochen/miniconda3/envs/homedepot/lib/python3.5/site-packages/sklearn/externals/joblib/parallel.py\u001b[0m in \u001b[0;36m__call__\u001b[0;34m(self, iterable)\u001b[0m\n\u001b[1;32m    808\u001b[0m                 \u001b[0;31m# consumption.\u001b[0m\u001b[0;34m\u001b[0m\u001b[0;34m\u001b[0m\u001b[0m\n\u001b[1;32m    809\u001b[0m                 \u001b[0mself\u001b[0m\u001b[0;34m.\u001b[0m\u001b[0m_iterating\u001b[0m \u001b[0;34m=\u001b[0m \u001b[0;32mFalse\u001b[0m\u001b[0;34m\u001b[0m\u001b[0m\n\u001b[0;32m--> 810\u001b[0;31m             \u001b[0mself\u001b[0m\u001b[0;34m.\u001b[0m\u001b[0mretrieve\u001b[0m\u001b[0;34m(\u001b[0m\u001b[0;34m)\u001b[0m\u001b[0;34m\u001b[0m\u001b[0m\n\u001b[0m\u001b[1;32m    811\u001b[0m             \u001b[0;31m# Make sure that we get a last message telling us we are done\u001b[0m\u001b[0;34m\u001b[0m\u001b[0;34m\u001b[0m\u001b[0m\n\u001b[1;32m    812\u001b[0m             \u001b[0melapsed_time\u001b[0m \u001b[0;34m=\u001b[0m \u001b[0mtime\u001b[0m\u001b[0;34m.\u001b[0m\u001b[0mtime\u001b[0m\u001b[0;34m(\u001b[0m\u001b[0;34m)\u001b[0m \u001b[0;34m-\u001b[0m \u001b[0mself\u001b[0m\u001b[0;34m.\u001b[0m\u001b[0m_start_time\u001b[0m\u001b[0;34m\u001b[0m\u001b[0m\n",
      "\u001b[0;32m/Users/jochen/miniconda3/envs/homedepot/lib/python3.5/site-packages/sklearn/externals/joblib/parallel.py\u001b[0m in \u001b[0;36mretrieve\u001b[0;34m(self)\u001b[0m\n\u001b[1;32m    725\u001b[0m                 \u001b[0mjob\u001b[0m \u001b[0;34m=\u001b[0m \u001b[0mself\u001b[0m\u001b[0;34m.\u001b[0m\u001b[0m_jobs\u001b[0m\u001b[0;34m.\u001b[0m\u001b[0mpop\u001b[0m\u001b[0;34m(\u001b[0m\u001b[0;36m0\u001b[0m\u001b[0;34m)\u001b[0m\u001b[0;34m\u001b[0m\u001b[0m\n\u001b[1;32m    726\u001b[0m             \u001b[0;32mtry\u001b[0m\u001b[0;34m:\u001b[0m\u001b[0;34m\u001b[0m\u001b[0m\n\u001b[0;32m--> 727\u001b[0;31m                 \u001b[0mself\u001b[0m\u001b[0;34m.\u001b[0m\u001b[0m_output\u001b[0m\u001b[0;34m.\u001b[0m\u001b[0mextend\u001b[0m\u001b[0;34m(\u001b[0m\u001b[0mjob\u001b[0m\u001b[0;34m.\u001b[0m\u001b[0mget\u001b[0m\u001b[0;34m(\u001b[0m\u001b[0;34m)\u001b[0m\u001b[0;34m)\u001b[0m\u001b[0;34m\u001b[0m\u001b[0m\n\u001b[0m\u001b[1;32m    728\u001b[0m             \u001b[0;32mexcept\u001b[0m \u001b[0mtuple\u001b[0m\u001b[0;34m(\u001b[0m\u001b[0mself\u001b[0m\u001b[0;34m.\u001b[0m\u001b[0mexceptions\u001b[0m\u001b[0;34m)\u001b[0m \u001b[0;32mas\u001b[0m \u001b[0mexception\u001b[0m\u001b[0;34m:\u001b[0m\u001b[0;34m\u001b[0m\u001b[0m\n\u001b[1;32m    729\u001b[0m                 \u001b[0;31m# Stop dispatching any new job in the async callback thread\u001b[0m\u001b[0;34m\u001b[0m\u001b[0;34m\u001b[0m\u001b[0m\n",
      "\u001b[0;32m/Users/jochen/miniconda3/envs/homedepot/lib/python3.5/multiprocessing/pool.py\u001b[0m in \u001b[0;36mget\u001b[0;34m(self, timeout)\u001b[0m\n\u001b[1;32m    600\u001b[0m \u001b[0;34m\u001b[0m\u001b[0m\n\u001b[1;32m    601\u001b[0m     \u001b[0;32mdef\u001b[0m \u001b[0mget\u001b[0m\u001b[0;34m(\u001b[0m\u001b[0mself\u001b[0m\u001b[0;34m,\u001b[0m \u001b[0mtimeout\u001b[0m\u001b[0;34m=\u001b[0m\u001b[0;32mNone\u001b[0m\u001b[0;34m)\u001b[0m\u001b[0;34m:\u001b[0m\u001b[0;34m\u001b[0m\u001b[0m\n\u001b[0;32m--> 602\u001b[0;31m         \u001b[0mself\u001b[0m\u001b[0;34m.\u001b[0m\u001b[0mwait\u001b[0m\u001b[0;34m(\u001b[0m\u001b[0mtimeout\u001b[0m\u001b[0;34m)\u001b[0m\u001b[0;34m\u001b[0m\u001b[0m\n\u001b[0m\u001b[1;32m    603\u001b[0m         \u001b[0;32mif\u001b[0m \u001b[0;32mnot\u001b[0m \u001b[0mself\u001b[0m\u001b[0;34m.\u001b[0m\u001b[0mready\u001b[0m\u001b[0;34m(\u001b[0m\u001b[0;34m)\u001b[0m\u001b[0;34m:\u001b[0m\u001b[0;34m\u001b[0m\u001b[0m\n\u001b[1;32m    604\u001b[0m             \u001b[0;32mraise\u001b[0m \u001b[0mTimeoutError\u001b[0m\u001b[0;34m\u001b[0m\u001b[0m\n",
      "\u001b[0;32m/Users/jochen/miniconda3/envs/homedepot/lib/python3.5/multiprocessing/pool.py\u001b[0m in \u001b[0;36mwait\u001b[0;34m(self, timeout)\u001b[0m\n\u001b[1;32m    597\u001b[0m \u001b[0;34m\u001b[0m\u001b[0m\n\u001b[1;32m    598\u001b[0m     \u001b[0;32mdef\u001b[0m \u001b[0mwait\u001b[0m\u001b[0;34m(\u001b[0m\u001b[0mself\u001b[0m\u001b[0;34m,\u001b[0m \u001b[0mtimeout\u001b[0m\u001b[0;34m=\u001b[0m\u001b[0;32mNone\u001b[0m\u001b[0;34m)\u001b[0m\u001b[0;34m:\u001b[0m\u001b[0;34m\u001b[0m\u001b[0m\n\u001b[0;32m--> 599\u001b[0;31m         \u001b[0mself\u001b[0m\u001b[0;34m.\u001b[0m\u001b[0m_event\u001b[0m\u001b[0;34m.\u001b[0m\u001b[0mwait\u001b[0m\u001b[0;34m(\u001b[0m\u001b[0mtimeout\u001b[0m\u001b[0;34m)\u001b[0m\u001b[0;34m\u001b[0m\u001b[0m\n\u001b[0m\u001b[1;32m    600\u001b[0m \u001b[0;34m\u001b[0m\u001b[0m\n\u001b[1;32m    601\u001b[0m     \u001b[0;32mdef\u001b[0m \u001b[0mget\u001b[0m\u001b[0;34m(\u001b[0m\u001b[0mself\u001b[0m\u001b[0;34m,\u001b[0m \u001b[0mtimeout\u001b[0m\u001b[0;34m=\u001b[0m\u001b[0;32mNone\u001b[0m\u001b[0;34m)\u001b[0m\u001b[0;34m:\u001b[0m\u001b[0;34m\u001b[0m\u001b[0m\n",
      "\u001b[0;32m/Users/jochen/miniconda3/envs/homedepot/lib/python3.5/threading.py\u001b[0m in \u001b[0;36mwait\u001b[0;34m(self, timeout)\u001b[0m\n\u001b[1;32m    547\u001b[0m             \u001b[0msignaled\u001b[0m \u001b[0;34m=\u001b[0m \u001b[0mself\u001b[0m\u001b[0;34m.\u001b[0m\u001b[0m_flag\u001b[0m\u001b[0;34m\u001b[0m\u001b[0m\n\u001b[1;32m    548\u001b[0m             \u001b[0;32mif\u001b[0m \u001b[0;32mnot\u001b[0m \u001b[0msignaled\u001b[0m\u001b[0;34m:\u001b[0m\u001b[0;34m\u001b[0m\u001b[0m\n\u001b[0;32m--> 549\u001b[0;31m                 \u001b[0msignaled\u001b[0m \u001b[0;34m=\u001b[0m \u001b[0mself\u001b[0m\u001b[0;34m.\u001b[0m\u001b[0m_cond\u001b[0m\u001b[0;34m.\u001b[0m\u001b[0mwait\u001b[0m\u001b[0;34m(\u001b[0m\u001b[0mtimeout\u001b[0m\u001b[0;34m)\u001b[0m\u001b[0;34m\u001b[0m\u001b[0m\n\u001b[0m\u001b[1;32m    550\u001b[0m             \u001b[0;32mreturn\u001b[0m \u001b[0msignaled\u001b[0m\u001b[0;34m\u001b[0m\u001b[0m\n\u001b[1;32m    551\u001b[0m \u001b[0;34m\u001b[0m\u001b[0m\n",
      "\u001b[0;32m/Users/jochen/miniconda3/envs/homedepot/lib/python3.5/threading.py\u001b[0m in \u001b[0;36mwait\u001b[0;34m(self, timeout)\u001b[0m\n\u001b[1;32m    291\u001b[0m         \u001b[0;32mtry\u001b[0m\u001b[0;34m:\u001b[0m    \u001b[0;31m# restore state no matter what (e.g., KeyboardInterrupt)\u001b[0m\u001b[0;34m\u001b[0m\u001b[0m\n\u001b[1;32m    292\u001b[0m             \u001b[0;32mif\u001b[0m \u001b[0mtimeout\u001b[0m \u001b[0;32mis\u001b[0m \u001b[0;32mNone\u001b[0m\u001b[0;34m:\u001b[0m\u001b[0;34m\u001b[0m\u001b[0m\n\u001b[0;32m--> 293\u001b[0;31m                 \u001b[0mwaiter\u001b[0m\u001b[0;34m.\u001b[0m\u001b[0macquire\u001b[0m\u001b[0;34m(\u001b[0m\u001b[0;34m)\u001b[0m\u001b[0;34m\u001b[0m\u001b[0m\n\u001b[0m\u001b[1;32m    294\u001b[0m                 \u001b[0mgotit\u001b[0m \u001b[0;34m=\u001b[0m \u001b[0;32mTrue\u001b[0m\u001b[0;34m\u001b[0m\u001b[0m\n\u001b[1;32m    295\u001b[0m             \u001b[0;32melse\u001b[0m\u001b[0;34m:\u001b[0m\u001b[0;34m\u001b[0m\u001b[0m\n",
      "\u001b[0;31mKeyboardInterrupt\u001b[0m: "
     ]
    }
   ],
   "source": [
    "%%time\n",
    "evaluate(clf) # rfr"
   ]
  },
  {
   "cell_type": "code",
   "execution_count": 319,
   "metadata": {
    "collapsed": false
   },
   "outputs": [],
   "source": [
    "importances = {'feature': [], 'importance': []}\n",
    "f_importances = clf.steps[-1][-1].feature_importances_\n",
    "cols = ColumnSelector(columns=categorial_features).columns + \\\n",
    "                   ColumnSelector(columns=numerical_features).columns\n",
    "for col, importance in zip(cols, f_importances):\n",
    "    importances['feature'].append(col)\n",
    "    importances['importance'].append(importance)\n",
    "df_importance = pd.DataFrame(importances)\n",
    "#df_importance = df_importance.sort_values(by='importance')"
   ]
  },
  {
   "cell_type": "code",
   "execution_count": 320,
   "metadata": {
    "collapsed": false
   },
   "outputs": [
    {
     "data": {
      "text/html": [
       "<div>\n",
       "<table border=\"1\" class=\"dataframe\">\n",
       "  <thead>\n",
       "    <tr style=\"text-align: right;\">\n",
       "      <th></th>\n",
       "      <th>feature</th>\n",
       "      <th>importance</th>\n",
       "    </tr>\n",
       "  </thead>\n",
       "  <tbody>\n",
       "    <tr>\n",
       "      <th>54</th>\n",
       "      <td>ngram_title</td>\n",
       "      <td>0.060216</td>\n",
       "    </tr>\n",
       "    <tr>\n",
       "      <th>33</th>\n",
       "      <td>owl_ratio_title</td>\n",
       "      <td>0.054846</td>\n",
       "    </tr>\n",
       "    <tr>\n",
       "      <th>58</th>\n",
       "      <td>owl_unigram_title</td>\n",
       "      <td>0.043755</td>\n",
       "    </tr>\n",
       "    <tr>\n",
       "      <th>53</th>\n",
       "      <td>ngram_all</td>\n",
       "      <td>0.040311</td>\n",
       "    </tr>\n",
       "    <tr>\n",
       "      <th>30</th>\n",
       "      <td>product_uid</td>\n",
       "      <td>0.036195</td>\n",
       "    </tr>\n",
       "    <tr>\n",
       "      <th>34</th>\n",
       "      <td>owl_ratio_description</td>\n",
       "      <td>0.028579</td>\n",
       "    </tr>\n",
       "    <tr>\n",
       "      <th>45</th>\n",
       "      <td>unigram_title</td>\n",
       "      <td>0.027179</td>\n",
       "    </tr>\n",
       "    <tr>\n",
       "      <th>57</th>\n",
       "      <td>owl_unigram_all</td>\n",
       "      <td>0.024921</td>\n",
       "    </tr>\n",
       "    <tr>\n",
       "      <th>44</th>\n",
       "      <td>unigram_all</td>\n",
       "      <td>0.023517</td>\n",
       "    </tr>\n",
       "    <tr>\n",
       "      <th>48</th>\n",
       "      <td>bigram_all</td>\n",
       "      <td>0.022272</td>\n",
       "    </tr>\n",
       "    <tr>\n",
       "      <th>31</th>\n",
       "      <td>query_id</td>\n",
       "      <td>0.020715</td>\n",
       "    </tr>\n",
       "    <tr>\n",
       "      <th>41</th>\n",
       "      <td>desc_text_len_ratio</td>\n",
       "      <td>0.020334</td>\n",
       "    </tr>\n",
       "    <tr>\n",
       "      <th>49</th>\n",
       "      <td>bigram_title</td>\n",
       "      <td>0.020218</td>\n",
       "    </tr>\n",
       "    <tr>\n",
       "      <th>36</th>\n",
       "      <td>all_text_len_ratio</td>\n",
       "      <td>0.020208</td>\n",
       "    </tr>\n",
       "    <tr>\n",
       "      <th>40</th>\n",
       "      <td>title_text_len_ratio</td>\n",
       "      <td>0.019583</td>\n",
       "    </tr>\n",
       "    <tr>\n",
       "      <th>55</th>\n",
       "      <td>unigram_title_all_golden</td>\n",
       "      <td>0.018665</td>\n",
       "    </tr>\n",
       "    <tr>\n",
       "      <th>23</th>\n",
       "      <td>title_text_len_char</td>\n",
       "      <td>0.017466</td>\n",
       "    </tr>\n",
       "    <tr>\n",
       "      <th>19</th>\n",
       "      <td>search_text_len_char</td>\n",
       "      <td>0.017081</td>\n",
       "    </tr>\n",
       "    <tr>\n",
       "      <th>17</th>\n",
       "      <td>all_text_len_char</td>\n",
       "      <td>0.016849</td>\n",
       "    </tr>\n",
       "    <tr>\n",
       "      <th>25</th>\n",
       "      <td>desc_text_len_char</td>\n",
       "      <td>0.016804</td>\n",
       "    </tr>\n",
       "    <tr>\n",
       "      <th>12</th>\n",
       "      <td>owl_search_term_feature</td>\n",
       "      <td>0.016748</td>\n",
       "    </tr>\n",
       "    <tr>\n",
       "      <th>11</th>\n",
       "      <td>owl_brand_feature</td>\n",
       "      <td>0.016063</td>\n",
       "    </tr>\n",
       "    <tr>\n",
       "      <th>37</th>\n",
       "      <td>search_text_len_ratio</td>\n",
       "      <td>0.015994</td>\n",
       "    </tr>\n",
       "    <tr>\n",
       "      <th>56</th>\n",
       "      <td>unigram_bigram_desc_desc_golden</td>\n",
       "      <td>0.015832</td>\n",
       "    </tr>\n",
       "    <tr>\n",
       "      <th>18</th>\n",
       "      <td>all_text_len_word</td>\n",
       "      <td>0.015640</td>\n",
       "    </tr>\n",
       "    <tr>\n",
       "      <th>46</th>\n",
       "      <td>unigram_description</td>\n",
       "      <td>0.015517</td>\n",
       "    </tr>\n",
       "    <tr>\n",
       "      <th>50</th>\n",
       "      <td>bigram_description</td>\n",
       "      <td>0.015401</td>\n",
       "    </tr>\n",
       "    <tr>\n",
       "      <th>26</th>\n",
       "      <td>desc_text_len_word</td>\n",
       "      <td>0.015346</td>\n",
       "    </tr>\n",
       "    <tr>\n",
       "      <th>2</th>\n",
       "      <td>owl_len_of_description</td>\n",
       "      <td>0.015317</td>\n",
       "    </tr>\n",
       "    <tr>\n",
       "      <th>6</th>\n",
       "      <td>owl_query_last_word_in_title</td>\n",
       "      <td>0.015038</td>\n",
       "    </tr>\n",
       "    <tr>\n",
       "      <th>...</th>\n",
       "      <td>...</td>\n",
       "      <td>...</td>\n",
       "    </tr>\n",
       "    <tr>\n",
       "      <th>62</th>\n",
       "      <td>jaccard_search_attr</td>\n",
       "      <td>0.010920</td>\n",
       "    </tr>\n",
       "    <tr>\n",
       "      <th>14</th>\n",
       "      <td>len_of_title</td>\n",
       "      <td>0.010857</td>\n",
       "    </tr>\n",
       "    <tr>\n",
       "      <th>24</th>\n",
       "      <td>title_text_len_word</td>\n",
       "      <td>0.010774</td>\n",
       "    </tr>\n",
       "    <tr>\n",
       "      <th>63</th>\n",
       "      <td>product_width</td>\n",
       "      <td>0.010219</td>\n",
       "    </tr>\n",
       "    <tr>\n",
       "      <th>29</th>\n",
       "      <td>product_freq</td>\n",
       "      <td>0.010108</td>\n",
       "    </tr>\n",
       "    <tr>\n",
       "      <th>21</th>\n",
       "      <td>brand_text_len_char</td>\n",
       "      <td>0.009909</td>\n",
       "    </tr>\n",
       "    <tr>\n",
       "      <th>64</th>\n",
       "      <td>product_height</td>\n",
       "      <td>0.009705</td>\n",
       "    </tr>\n",
       "    <tr>\n",
       "      <th>66</th>\n",
       "      <td>product_weight</td>\n",
       "      <td>0.009685</td>\n",
       "    </tr>\n",
       "    <tr>\n",
       "      <th>67</th>\n",
       "      <td>product_size</td>\n",
       "      <td>0.009243</td>\n",
       "    </tr>\n",
       "    <tr>\n",
       "      <th>38</th>\n",
       "      <td>brand_text_len_ratio</td>\n",
       "      <td>0.008928</td>\n",
       "    </tr>\n",
       "    <tr>\n",
       "      <th>65</th>\n",
       "      <td>product_depth</td>\n",
       "      <td>0.008927</td>\n",
       "    </tr>\n",
       "    <tr>\n",
       "      <th>39</th>\n",
       "      <td>brand_text_len_ratio</td>\n",
       "      <td>0.008863</td>\n",
       "    </tr>\n",
       "    <tr>\n",
       "      <th>8</th>\n",
       "      <td>owl_word_in_title</td>\n",
       "      <td>0.008012</td>\n",
       "    </tr>\n",
       "    <tr>\n",
       "      <th>20</th>\n",
       "      <td>search_text_len_word</td>\n",
       "      <td>0.006783</td>\n",
       "    </tr>\n",
       "    <tr>\n",
       "      <th>0</th>\n",
       "      <td>owl_len_of_query</td>\n",
       "      <td>0.006708</td>\n",
       "    </tr>\n",
       "    <tr>\n",
       "      <th>13</th>\n",
       "      <td>len_of_query</td>\n",
       "      <td>0.006603</td>\n",
       "    </tr>\n",
       "    <tr>\n",
       "      <th>32</th>\n",
       "      <td>color_id</td>\n",
       "      <td>0.006148</td>\n",
       "    </tr>\n",
       "    <tr>\n",
       "      <th>7</th>\n",
       "      <td>owl_query_last_word_in_description</td>\n",
       "      <td>0.006122</td>\n",
       "    </tr>\n",
       "    <tr>\n",
       "      <th>15</th>\n",
       "      <td>twq</td>\n",
       "      <td>0.005206</td>\n",
       "    </tr>\n",
       "    <tr>\n",
       "      <th>9</th>\n",
       "      <td>owl_word_in_description</td>\n",
       "      <td>0.004971</td>\n",
       "    </tr>\n",
       "    <tr>\n",
       "      <th>22</th>\n",
       "      <td>brand_text_len_word</td>\n",
       "      <td>0.003337</td>\n",
       "    </tr>\n",
       "    <tr>\n",
       "      <th>16</th>\n",
       "      <td>query_in_title</td>\n",
       "      <td>0.003046</td>\n",
       "    </tr>\n",
       "    <tr>\n",
       "      <th>3</th>\n",
       "      <td>owl_len_of_brand</td>\n",
       "      <td>0.002871</td>\n",
       "    </tr>\n",
       "    <tr>\n",
       "      <th>47</th>\n",
       "      <td>unigram_brand</td>\n",
       "      <td>0.002583</td>\n",
       "    </tr>\n",
       "    <tr>\n",
       "      <th>51</th>\n",
       "      <td>bigram_brand</td>\n",
       "      <td>0.002455</td>\n",
       "    </tr>\n",
       "    <tr>\n",
       "      <th>35</th>\n",
       "      <td>owl_ratio_brand</td>\n",
       "      <td>0.001774</td>\n",
       "    </tr>\n",
       "    <tr>\n",
       "      <th>61</th>\n",
       "      <td>jaccard_search_brand</td>\n",
       "      <td>0.001607</td>\n",
       "    </tr>\n",
       "    <tr>\n",
       "      <th>4</th>\n",
       "      <td>owl_query_in_title</td>\n",
       "      <td>0.001486</td>\n",
       "    </tr>\n",
       "    <tr>\n",
       "      <th>10</th>\n",
       "      <td>owl_word_in_brand</td>\n",
       "      <td>0.001302</td>\n",
       "    </tr>\n",
       "    <tr>\n",
       "      <th>5</th>\n",
       "      <td>owl_query_in_description</td>\n",
       "      <td>0.001276</td>\n",
       "    </tr>\n",
       "  </tbody>\n",
       "</table>\n",
       "<p>68 rows × 2 columns</p>\n",
       "</div>"
      ],
      "text/plain": [
       "                               feature  importance\n",
       "54                         ngram_title    0.060216\n",
       "33                     owl_ratio_title    0.054846\n",
       "58                   owl_unigram_title    0.043755\n",
       "53                           ngram_all    0.040311\n",
       "30                         product_uid    0.036195\n",
       "34               owl_ratio_description    0.028579\n",
       "45                       unigram_title    0.027179\n",
       "57                     owl_unigram_all    0.024921\n",
       "44                         unigram_all    0.023517\n",
       "48                          bigram_all    0.022272\n",
       "31                            query_id    0.020715\n",
       "41                 desc_text_len_ratio    0.020334\n",
       "49                        bigram_title    0.020218\n",
       "36                  all_text_len_ratio    0.020208\n",
       "40                title_text_len_ratio    0.019583\n",
       "55            unigram_title_all_golden    0.018665\n",
       "23                 title_text_len_char    0.017466\n",
       "19                search_text_len_char    0.017081\n",
       "17                   all_text_len_char    0.016849\n",
       "25                  desc_text_len_char    0.016804\n",
       "12             owl_search_term_feature    0.016748\n",
       "11                   owl_brand_feature    0.016063\n",
       "37               search_text_len_ratio    0.015994\n",
       "56     unigram_bigram_desc_desc_golden    0.015832\n",
       "18                   all_text_len_word    0.015640\n",
       "46                 unigram_description    0.015517\n",
       "50                  bigram_description    0.015401\n",
       "26                  desc_text_len_word    0.015346\n",
       "2               owl_len_of_description    0.015317\n",
       "6         owl_query_last_word_in_title    0.015038\n",
       "..                                 ...         ...\n",
       "62                 jaccard_search_attr    0.010920\n",
       "14                        len_of_title    0.010857\n",
       "24                 title_text_len_word    0.010774\n",
       "63                       product_width    0.010219\n",
       "29                        product_freq    0.010108\n",
       "21                 brand_text_len_char    0.009909\n",
       "64                      product_height    0.009705\n",
       "66                      product_weight    0.009685\n",
       "67                        product_size    0.009243\n",
       "38                brand_text_len_ratio    0.008928\n",
       "65                       product_depth    0.008927\n",
       "39                brand_text_len_ratio    0.008863\n",
       "8                    owl_word_in_title    0.008012\n",
       "20                search_text_len_word    0.006783\n",
       "0                     owl_len_of_query    0.006708\n",
       "13                        len_of_query    0.006603\n",
       "32                            color_id    0.006148\n",
       "7   owl_query_last_word_in_description    0.006122\n",
       "15                                 twq    0.005206\n",
       "9              owl_word_in_description    0.004971\n",
       "22                 brand_text_len_word    0.003337\n",
       "16                      query_in_title    0.003046\n",
       "3                     owl_len_of_brand    0.002871\n",
       "47                       unigram_brand    0.002583\n",
       "51                        bigram_brand    0.002455\n",
       "35                     owl_ratio_brand    0.001774\n",
       "61                jaccard_search_brand    0.001607\n",
       "4                   owl_query_in_title    0.001486\n",
       "10                   owl_word_in_brand    0.001302\n",
       "5             owl_query_in_description    0.001276\n",
       "\n",
       "[68 rows x 2 columns]"
      ]
     },
     "execution_count": 320,
     "metadata": {},
     "output_type": "execute_result"
    }
   ],
   "source": [
    "df_importance.sort_values(by='importance', ascending=False)"
   ]
  },
  {
   "cell_type": "code",
   "execution_count": 321,
   "metadata": {
    "collapsed": false
   },
   "outputs": [
    {
     "data": {
      "image/png": "[encoded data removed]",
      "text/plain": [
       "<matplotlib.figure.Figure at 0x29625ab70>"
      ]
     },
     "metadata": {},
     "output_type": "display_data"
    }
   ],
   "source": [
    "f, ax = plt.subplots(figsize=(15, 30))\n",
    "a = sns.barplot(x='importance', y='feature', data=df_importance.sort_values(by='importance', ascending=False))"
   ]
  },
  {
   "cell_type": "code",
   "execution_count": 249,
   "metadata": {
    "collapsed": false
   },
   "outputs": [
    {
     "data": {
      "text/plain": [
       "0.45876852395789863"
      ]
     },
     "execution_count": 249,
     "metadata": {},
     "output_type": "execute_result"
    }
   ],
   "source": [
    "np.average(df_train.error) ** 0.5"
   ]
  },
  {
   "cell_type": "code",
   "execution_count": 1,
   "metadata": {
    "collapsed": false
   },
   "outputs": [
    {
     "ename": "NameError",
     "evalue": "name 'np' is not defined",
     "output_type": "error",
     "traceback": [
      "\u001b[0;31m---------------------------------------------------------------------------\u001b[0m",
      "\u001b[0;31mNameError\u001b[0m                                 Traceback (most recent call last)",
      "\u001b[0;32m<ipython-input-1-dc550bacf7b1>\u001b[0m in \u001b[0;36m<module>\u001b[0;34m()\u001b[0m\n\u001b[0;32m----> 1\u001b[0;31m \u001b[0mnp\u001b[0m\u001b[0;34m.\u001b[0m\u001b[0maverage\u001b[0m\u001b[0;34m(\u001b[0m\u001b[0mdf_train\u001b[0m\u001b[0;34m.\u001b[0m\u001b[0merror\u001b[0m\u001b[0;34m)\u001b[0m\u001b[0;34m\u001b[0m\u001b[0m\n\u001b[0m",
      "\u001b[0;31mNameError\u001b[0m: name 'np' is not defined"
     ]
    }
   ],
   "source": [
    "np.average(df_train.error)"
   ]
  },
  {
   "cell_type": "code",
   "execution_count": 91,
   "metadata": {
    "collapsed": true
   },
   "outputs": [],
   "source": [
    "pd.set_option('max_colwidth', 200)"
   ]
  },
  {
   "cell_type": "code",
   "execution_count": 122,
   "metadata": {
    "collapsed": false
   },
   "outputs": [
    {
     "data": {
      "text/html": [
       "<div>\n",
       "<table border=\"1\" class=\"dataframe\">\n",
       "  <thead>\n",
       "    <tr style=\"text-align: right;\">\n",
       "      <th></th>\n",
       "      <th>relevance</th>\n",
       "      <th>pred</th>\n",
       "      <th>error</th>\n",
       "      <th>search_term</th>\n",
       "      <th>product_title</th>\n",
       "      <th>product_description</th>\n",
       "    </tr>\n",
       "  </thead>\n",
       "  <tbody>\n",
       "    <tr>\n",
       "      <th>22585</th>\n",
       "      <td>1.00</td>\n",
       "      <td>2.770268</td>\n",
       "      <td>3.133848</td>\n",
       "      <td>topiary tree</td>\n",
       "      <td>Romano 4 ft. Boxwood Spiral Topiary Tree</td>\n",
       "      <td>Enhance your home with a Romano Boxwood Spiral Topiary Tree. This wonderful full bodied Boxwood Spiral Topiary Tree keeps its colors when all the rest lose their color and leaves. You can always l...</td>\n",
       "    </tr>\n",
       "    <tr>\n",
       "      <th>39506</th>\n",
       "      <td>1.00</td>\n",
       "      <td>2.762619</td>\n",
       "      <td>3.106825</td>\n",
       "      <td>rachael ray</td>\n",
       "      <td>Rachael Ray 10 qt. Covered Stockpot</td>\n",
       "      <td>Whether you're boiling pasta, making a batch of chili or cooking grains, this large, 10 quart stockpot is just the right size. When it's not on the stovetop, its two short side handles help it tak...</td>\n",
       "    </tr>\n",
       "    <tr>\n",
       "      <th>21313</th>\n",
       "      <td>1.00</td>\n",
       "      <td>2.746364</td>\n",
       "      <td>3.049789</td>\n",
       "      <td>small tree</td>\n",
       "      <td>Tree Trainer Small Self-Supporting Tree Brace</td>\n",
       "      <td>The Tree Trainer is an innovative product award winner through the American Nursery and Landscape Association. Designed as an environmentally safe product that has been engineered for durability. ...</td>\n",
       "    </tr>\n",
       "    <tr>\n",
       "      <th>27963</th>\n",
       "      <td>1.00</td>\n",
       "      <td>2.743893</td>\n",
       "      <td>3.041164</td>\n",
       "      <td>grape plant</td>\n",
       "      <td>Oakland Living 26 in. Metal Grape Table Plant Stand</td>\n",
       "      <td>The Oakland Living 26 in. Metal Grape Table Plant Stand offers a sturdy and beautiful place to keep plants on display. This stand is made from cast iron for durability with an antique bronze powde...</td>\n",
       "    </tr>\n",
       "    <tr>\n",
       "      <th>31530</th>\n",
       "      <td>1.00</td>\n",
       "      <td>2.696071</td>\n",
       "      <td>2.876657</td>\n",
       "      <td>copper faucet</td>\n",
       "      <td>BrassCraft 3/8 in. O.D. x 36 in. Copper Faucet Riser in Chrome</td>\n",
       "      <td>BrassCraft 3/8 in. O.D. tube x 36 in. length chrome-plated copper riser for faucet installations features one-piece formed metal nosepiece with insert. Cut-to-Length for flexible fit with a clean,...</td>\n",
       "    </tr>\n",
       "    <tr>\n",
       "      <th>43416</th>\n",
       "      <td>1.00</td>\n",
       "      <td>2.693520</td>\n",
       "      <td>2.868010</td>\n",
       "      <td>laminate floor tile</td>\n",
       "      <td>Bona Stone, Tile and Laminate Floor Care System</td>\n",
       "      <td>Use the Bona Stone, Tile and Laminate Floor Care System to clean hard-surface floors in your home. The 4-piece kit includes a mop, microfiber cleaning and dusting pads and a 32 oz. spray bottle of...</td>\n",
       "    </tr>\n",
       "    <tr>\n",
       "      <th>32670</th>\n",
       "      <td>1.00</td>\n",
       "      <td>2.674037</td>\n",
       "      <td>2.802400</td>\n",
       "      <td>linzer</td>\n",
       "      <td>Linzer 9 in. x 3/8 in. Medium-Density Polyester Roller Cover (6-Pack)</td>\n",
       "      <td>The 9 in. x 3/8 in. Medium-Density Polyester Roller Covers (6-Pack) are for use with both oil-based and latex paints. These rollers are reusable if washed with water or mineral spirits after each ...</td>\n",
       "    </tr>\n",
       "    <tr>\n",
       "      <th>53368</th>\n",
       "      <td>1.00</td>\n",
       "      <td>2.635210</td>\n",
       "      <td>2.673910</td>\n",
       "      <td>mortar tools</td>\n",
       "      <td>Buffalo Tools Folding Mortar Board Stand-DISCONTINUED</td>\n",
       "      <td>Red Snapr insulators are made from only the highest grade, high density polyethylene that results in a rugged, durable construction. They are UV-protected to resist weathering, even under the hars...</td>\n",
       "    </tr>\n",
       "    <tr>\n",
       "      <th>44061</th>\n",
       "      <td>1.00</td>\n",
       "      <td>2.607376</td>\n",
       "      <td>2.583658</td>\n",
       "      <td>solar vents</td>\n",
       "      <td>Master Flow 24 VDC Replacement Motor for Solar and Dual-Powered Series Vents</td>\n",
       "      <td>The SLRM105 is the replacement motor for all Master Flow Green Machine Solar Powered Roof Vents.  It can be used with Master Flow Solar and Dual-powered models. Brushless 24 VDC motor.Replaceable ...</td>\n",
       "    </tr>\n",
       "    <tr>\n",
       "      <th>24792</th>\n",
       "      <td>1.00</td>\n",
       "      <td>2.602719</td>\n",
       "      <td>2.568709</td>\n",
       "      <td>round beech</td>\n",
       "      <td>Zamma Beech Blocked 5/8 in. Thick x 3/4 in. Wide x 94 in. Length Laminate Quarter Round Molding</td>\n",
       "      <td>Beech Blocked Quarter Round is used to accent the transitions from baseboard to floor surface, especially in retrofitted floors where the baseboard typically is not removed. The quarter round prov...</td>\n",
       "    </tr>\n",
       "    <tr>\n",
       "      <th>68083</th>\n",
       "      <td>1.00</td>\n",
       "      <td>2.599650</td>\n",
       "      <td>2.558881</td>\n",
       "      <td>bird stops</td>\n",
       "      <td>Heath Bird Stop Blue Ceramic Wild Bird Feeder</td>\n",
       "      <td>The Bird Stop Blue Ceramic Wild Bird Feeder features a blend of ceramic and metal construction. The circular openings are ideal for feeding sunflower seeds, shelled peanuts or mealworms. Holds up ...</td>\n",
       "    </tr>\n",
       "    <tr>\n",
       "      <th>52159</th>\n",
       "      <td>1.00</td>\n",
       "      <td>2.592529</td>\n",
       "      <td>2.536150</td>\n",
       "      <td>red wood fence</td>\n",
       "      <td>BEHR 1-gal. #SC-112 Barn Red Solid Color House and Fence Wood Stain</td>\n",
       "      <td>The BEHR Solid Color House and Fence Paint is an advanced exterior stain, combining the best features of oil and latex for superior color retention, adhesion, penetration and durability. It provid...</td>\n",
       "    </tr>\n",
       "    <tr>\n",
       "      <th>49876</th>\n",
       "      <td>1.00</td>\n",
       "      <td>2.584836</td>\n",
       "      <td>2.511706</td>\n",
       "      <td>ge slate microwave</td>\n",
       "      <td>GE 36 in. Over-the-Range Microwave Accessory Filler Kit in Slate</td>\n",
       "      <td>Your 36 in. Over-the-Range Microwave Trim Kit provides a custom appearance and built-in convenience for your GE or GE Profile microwave. GE appliances provide up-to-date technology and exceptional...</td>\n",
       "    </tr>\n",
       "    <tr>\n",
       "      <th>45096</th>\n",
       "      <td>1.00</td>\n",
       "      <td>2.580752</td>\n",
       "      <td>2.498778</td>\n",
       "      <td>strawberries</td>\n",
       "      <td>Viagrow Strawberry Planter Vertical Garden</td>\n",
       "      <td>The Viagrow Strawberry Planter allows you to grow your own strawberries utilizing a vertical planting design maximizing the number of plants you can grow per square foot. Vertical strawberry growt...</td>\n",
       "    </tr>\n",
       "    <tr>\n",
       "      <th>32384</th>\n",
       "      <td>1.00</td>\n",
       "      <td>2.580051</td>\n",
       "      <td>2.496561</td>\n",
       "      <td>galvanized pipe 1/2</td>\n",
       "      <td>Superstrut 1-1/2 in. Universal Pipe Clamp - Silver Galvanized</td>\n",
       "      <td>Suspend electrical pipes and tubing from the ceiling by using the Superstrut 1-1/2 in. Conduit Clamp. This clamp accommodates 12- or 14-Gauge metal framing channel.Clamps a 1-1/2 in. conduit for c...</td>\n",
       "    </tr>\n",
       "    <tr>\n",
       "      <th>26250</th>\n",
       "      <td>1.00</td>\n",
       "      <td>2.571558</td>\n",
       "      <td>2.469794</td>\n",
       "      <td>storm door black</td>\n",
       "      <td>Prime-Line Storm Door Closer, with Shock Spring Heavy Duty Black</td>\n",
       "      <td>This storm and screen door closer comes finished in aluminum. It features adjustable closing speed and includes a shock spring. This style closer is used on medium to heavy weight doors.Heavy duty...</td>\n",
       "    </tr>\n",
       "    <tr>\n",
       "      <th>65804</th>\n",
       "      <td>1.00</td>\n",
       "      <td>2.557206</td>\n",
       "      <td>2.424889</td>\n",
       "      <td>alpine large</td>\n",
       "      <td>Alpine 15 in. Large Red Bowl Plastic Planter</td>\n",
       "      <td>These bowl planters are perfect for patios and decks. Available in a variety of sizes and colors they can meet any need, or taste and are very durable. Accent any outdoor landscape or outdoor livi...</td>\n",
       "    </tr>\n",
       "    <tr>\n",
       "      <th>3322</th>\n",
       "      <td>1.00</td>\n",
       "      <td>2.556430</td>\n",
       "      <td>2.422474</td>\n",
       "      <td>screen frame</td>\n",
       "      <td>New York Wire Brown 5/16 in. Screen Frame Corners (4-Pack) FSP8571-U</td>\n",
       "      <td>The 5/16\" Screen Frame Corners are used to build or repair a screen frame. The plastic corners are made to fit into the channel of a 5/16\" frame. Build or repair your screen frame with these easy ...</td>\n",
       "    </tr>\n",
       "    <tr>\n",
       "      <th>58430</th>\n",
       "      <td>1.00</td>\n",
       "      <td>2.552446</td>\n",
       "      <td>2.410088</td>\n",
       "      <td>bronze green</td>\n",
       "      <td>Green Matters 3-Light Mahogany Bronze Vanity Fixture</td>\n",
       "      <td>The cornerstone of this collection is quality, and this incandescent vanity is no exception. Combining a classic mahogany bronze finish and posh styling, you will find no better way to highlight t...</td>\n",
       "    </tr>\n",
       "    <tr>\n",
       "      <th>52380</th>\n",
       "      <td>1.00</td>\n",
       "      <td>2.550522</td>\n",
       "      <td>2.404118</td>\n",
       "      <td>rock board</td>\n",
       "      <td>Rock-On #9 x 2-1/4 in. Phillips High Low Threaded Wafer-Head Cement Board Screws (100-Pack)</td>\n",
       "      <td>Rock-On #9 x 2-1/4 in. High-Low Threaded Wafer-Head Phillips Cement Board Screws (100-Pack) are ideal for attaching cement board to wood and light-Gauge steel. Use Rock-On screws for a variety of ...</td>\n",
       "    </tr>\n",
       "    <tr>\n",
       "      <th>9378</th>\n",
       "      <td>1.00</td>\n",
       "      <td>2.547801</td>\n",
       "      <td>2.395689</td>\n",
       "      <td>36 shower door</td>\n",
       "      <td>Showerdoordirect 36 in. Frameless Shower Door Seal with Wipe for 3/8 in. Glass in Clear</td>\n",
       "      <td>The seal can be used for the bottom of the door or it can be used as a seal on the side of a door. This design allows for quick and easy install, as it snaps on the door. The part is specifically ...</td>\n",
       "    </tr>\n",
       "    <tr>\n",
       "      <th>15971</th>\n",
       "      <td>1.00</td>\n",
       "      <td>2.546238</td>\n",
       "      <td>2.390851</td>\n",
       "      <td>ego batteries</td>\n",
       "      <td>EGO 24 in. 56-Volt Lithium-ion Cordless Hedge Trimmer - Battery and Charger Not Included</td>\n",
       "      <td>The EGO POWER+ Hedge Trimmer delivers performance equal to or better than many premium gas-powered models without the noise, fuss and fumes. 24 in. hardened-steel, dual-action, blades and extended...</td>\n",
       "    </tr>\n",
       "    <tr>\n",
       "      <th>66916</th>\n",
       "      <td>3.00</td>\n",
       "      <td>1.463113</td>\n",
       "      <td>2.362021</td>\n",
       "      <td>vdk</td>\n",
       "      <td>BDK Warner Brothers Batman Carpet Floor Mats (4-Piece)</td>\n",
       "      <td>Warner Brothers Batman carpet floor mats will enhance your vehicles interior while showing off your lighter side. The carpet floor mats features and benefits are made of polyester material, non-sl...</td>\n",
       "    </tr>\n",
       "    <tr>\n",
       "      <th>63473</th>\n",
       "      <td>1.00</td>\n",
       "      <td>2.535938</td>\n",
       "      <td>2.359105</td>\n",
       "      <td>aluminum door  trim</td>\n",
       "      <td>Global Door Controls Entry Ball Knob Lock Exit Device Trim in Aluminum</td>\n",
       "      <td>The Global Door Controls keyed ball knob entry comes in aluminum finish and is an accessory trim for a touch/panic bar exit device. The knob trim features a Schlage C keyway. Durable and a perfect...</td>\n",
       "    </tr>\n",
       "    <tr>\n",
       "      <th>30572</th>\n",
       "      <td>1.00</td>\n",
       "      <td>2.532979</td>\n",
       "      <td>2.350024</td>\n",
       "      <td>grape plant</td>\n",
       "      <td>Daylily Grape Magic Bare Root Dormant Plants (8-Pack)</td>\n",
       "      <td>Daylilies are vigorous perennial that require little care in the garden once established. Daylilies adapt to a wide range of growing conditions and establish quickly and survive winters with littl...</td>\n",
       "    </tr>\n",
       "    <tr>\n",
       "      <th>51634</th>\n",
       "      <td>1.00</td>\n",
       "      <td>2.531646</td>\n",
       "      <td>2.345941</td>\n",
       "      <td>14 ft ladder</td>\n",
       "      <td>Werner 14 ft. Fiberglass Round Rung Straight Ladder with 375 lb. Load Capacity Type IAA Duty Rating</td>\n",
       "      <td>The 7114-1 one-section round rung 14 ft. Straight Ladder is made with non-conductive fiberglass rails. Easy to transport and maneuver, these ladders bear a duty rating of 375 lbs. making them dura...</td>\n",
       "    </tr>\n",
       "    <tr>\n",
       "      <th>35110</th>\n",
       "      <td>1.00</td>\n",
       "      <td>2.530439</td>\n",
       "      <td>2.342244</td>\n",
       "      <td>valet</td>\n",
       "      <td>Cover Valet Spa Cover Lift and Caddy</td>\n",
       "      <td>Spa Cover Caddy's unique design allows this premium cover lifter to be installed on a number of spa shapes and sizes, including square, rectangular, round &amp; octagonal. The caddy under-mount base p...</td>\n",
       "    </tr>\n",
       "    <tr>\n",
       "      <th>44980</th>\n",
       "      <td>1.00</td>\n",
       "      <td>2.524447</td>\n",
       "      <td>2.323937</td>\n",
       "      <td>side shields</td>\n",
       "      <td>Earthquake 212cc Tiller Rear Tine CRT with Side Shields</td>\n",
       "      <td>The Earthquake 6015V rear tine rototiller delivers the ultimate combination of power and size. Rear-mounted tines till stubborn dirt easily with a high-performance 212cc Viper engine. We have engi...</td>\n",
       "    </tr>\n",
       "    <tr>\n",
       "      <th>22364</th>\n",
       "      <td>1.00</td>\n",
       "      <td>2.521664</td>\n",
       "      <td>2.315462</td>\n",
       "      <td>big ass</td>\n",
       "      <td>Big Ass Fans 3600 144 in. Yellow and Silver Aluminum Shop Ceiling Fan</td>\n",
       "      <td>Want air movement without noise. You've got it. The Big Ass Fan 3600 is a money-saving, statement-making, air-moving machine. The 12 ft. wingspan creates serious airflow for spaces up to 3,600 sq....</td>\n",
       "    </tr>\n",
       "    <tr>\n",
       "      <th>50053</th>\n",
       "      <td>1.00</td>\n",
       "      <td>2.512564</td>\n",
       "      <td>2.287850</td>\n",
       "      <td>outdoor patio shades</td>\n",
       "      <td>Patio Living Concepts Bahama Weave 34 in. Dark Mahogany Outdoor Table Lamp with Straw Linen Shade</td>\n",
       "      <td>Carefree resin durability, while adding elegance to any outdoor living area. All weather wicker woven base adds dramatic appeal. Lamp features all resin construction with heavy weighted base. Two ...</td>\n",
       "    </tr>\n",
       "    <tr>\n",
       "      <th>...</th>\n",
       "      <td>...</td>\n",
       "      <td>...</td>\n",
       "      <td>...</td>\n",
       "      <td>...</td>\n",
       "      <td>...</td>\n",
       "      <td>...</td>\n",
       "    </tr>\n",
       "    <tr>\n",
       "      <th>62937</th>\n",
       "      <td>3.00</td>\n",
       "      <td>2.292217</td>\n",
       "      <td>0.500957</td>\n",
       "      <td>rustoleum primer for over rust</td>\n",
       "      <td>Rust-Oleum Stops Rust 1 qt. Flat White Clean Metal Primer</td>\n",
       "      <td>The Rust-Oleum Stops Rust 32 oz. Clean Metal Flat Rust Preventive Primer is designed for use on lightly rusted metals and works well on bare and previously painted metals. This primer can be used ...</td>\n",
       "    </tr>\n",
       "    <tr>\n",
       "      <th>67692</th>\n",
       "      <td>1.67</td>\n",
       "      <td>2.377691</td>\n",
       "      <td>0.500827</td>\n",
       "      <td>midesion cabinet</td>\n",
       "      <td>Laurey Mission Bay 1-3/8 in. Antique Pewter Cabinet Knob</td>\n",
       "      <td>Laurey is America's Finest Quality Cabinet Hardware. Laurey features the most innovative styling, original marketing ideas and a dedication to service that is truly unparalleled. Laurey quality me...</td>\n",
       "    </tr>\n",
       "    <tr>\n",
       "      <th>67655</th>\n",
       "      <td>3.00</td>\n",
       "      <td>2.292391</td>\n",
       "      <td>0.500711</td>\n",
       "      <td>under cabinet simplehuman trash can</td>\n",
       "      <td>simplehuman 10 l Black In-Cabinet Trash Can</td>\n",
       "      <td>The simplehuman in-cabinet trash can hang inside your kitchen cabinet door for quick and easy access while you are busy at the kitchen counter. For a cleaner look, it can be mounted directly onto ...</td>\n",
       "    </tr>\n",
       "    <tr>\n",
       "      <th>51386</th>\n",
       "      <td>2.00</td>\n",
       "      <td>2.707603</td>\n",
       "      <td>0.500701</td>\n",
       "      <td>DOWEL SCREW</td>\n",
       "      <td>Everbilt 5/32 in. x 1-1/4 in. Zinc-Plated Everbilt Dowel Screw</td>\n",
       "      <td>Dowel screws are headless bolts designed to join materials in wooden structures. Each end has a wood screw thread with a pointed end. Commonly used to attach legs to tables and chairs, but can be ...</td>\n",
       "    </tr>\n",
       "    <tr>\n",
       "      <th>25438</th>\n",
       "      <td>2.67</td>\n",
       "      <td>1.962455</td>\n",
       "      <td>0.500620</td>\n",
       "      <td>cooktop 22 gas</td>\n",
       "      <td>Cub Cadet XT1 Enduro Series LT 46 in. 22 HP V-Twin Kohler Hydrostatic Gas Front-Engine Riding Mower</td>\n",
       "      <td>The Cub Cadet XT1 46 in. riding mower features category leading strength, comfort and versatility. It's loaded with a 22 HP Kohler V-Twin OHV engine for powerful performance and a hydrostatic tran...</td>\n",
       "    </tr>\n",
       "    <tr>\n",
       "      <th>58461</th>\n",
       "      <td>1.33</td>\n",
       "      <td>2.037460</td>\n",
       "      <td>0.500500</td>\n",
       "      <td>decorative duplicate keys</td>\n",
       "      <td>Southern Enterprises 12.5 in. x 31.25 in. Key Decorative Wall Panel Set (2-Piece)</td>\n",
       "      <td>This set includes 2-wall panels which each feature a raised key design; one panel is off-white and the other is blue, while the key is a very worn and scraped away black finish. Each panel feature...</td>\n",
       "    </tr>\n",
       "    <tr>\n",
       "      <th>44213</th>\n",
       "      <td>3.00</td>\n",
       "      <td>2.292550</td>\n",
       "      <td>0.500486</td>\n",
       "      <td>12 awg</td>\n",
       "      <td>Gardner Bender Uni-Lok #22 - #12 AWG (3 mmå_) Multi-Range Winged Twist-On Connectors with Easy-Twist Nylon Housing - Yellow (100/Carton)</td>\n",
       "      <td>GB's exclusive Uni-Lok Universal Wire Connector is a versatile and cost effective connector designed to accept a wide range of wire combinations. Unlike other connectors made with a hard polypropy...</td>\n",
       "    </tr>\n",
       "    <tr>\n",
       "      <th>38136</th>\n",
       "      <td>1.67</td>\n",
       "      <td>2.377440</td>\n",
       "      <td>0.500471</td>\n",
       "      <td>floats</td>\n",
       "      <td>Hedrix 11 oz. Match of PPWC-15 Hope Floats Semi-Gloss Custom Spray Paint (2-Pack)</td>\n",
       "      <td>Matched to PPWC-15 Hope Floats, this high-quality fast-dry spray paint provides an ultra-smooth, durable, high-hiding coating that is great for interior or exterior use. It is suitable for metal, ...</td>\n",
       "    </tr>\n",
       "    <tr>\n",
       "      <th>20956</th>\n",
       "      <td>1.33</td>\n",
       "      <td>2.037423</td>\n",
       "      <td>0.500447</td>\n",
       "      <td>2 wire splice connector</td>\n",
       "      <td>Tyco Electronics Butt Splices Vinyl 22-18 AWG 100/Clam</td>\n",
       "      <td>Tyco Electronic's solderless crimp terminals and connectors are available in a variety of configurations for a multitude of applications. These universal connectors can be used for just about any ...</td>\n",
       "    </tr>\n",
       "    <tr>\n",
       "      <th>17785</th>\n",
       "      <td>2.67</td>\n",
       "      <td>1.962584</td>\n",
       "      <td>0.500438</td>\n",
       "      <td>kitchen ceiling lightening</td>\n",
       "      <td>Progress Lighting Appeal 2-Light Brushed Nickel Square Flushmount</td>\n",
       "      <td>Clean design with elegant lines is complemented by a satin finish, alabaster glass shade. Simple glass installation using only one thumbscrew provides both easy access for changing light bulbs and...</td>\n",
       "    </tr>\n",
       "    <tr>\n",
       "      <th>25632</th>\n",
       "      <td>2.67</td>\n",
       "      <td>1.962588</td>\n",
       "      <td>0.500432</td>\n",
       "      <td>carpet runners 3 ft</td>\n",
       "      <td>Mohawk Home Frise Shag Kingsgold 3 ft. 4 in. x 5 ft. Area Rug</td>\n",
       "      <td>The Mohawk Home Frise Shag Kingsgold 3 ft. 4 in. x 5 ft. Area Rug features a contemporary shag design and a gold color to help add a touch of elegance to your living space. The rug is stain resist...</td>\n",
       "    </tr>\n",
       "    <tr>\n",
       "      <th>6532</th>\n",
       "      <td>1.67</td>\n",
       "      <td>2.377383</td>\n",
       "      <td>0.500390</td>\n",
       "      <td>whirpool range</td>\n",
       "      <td>Whirlpool Gold Series Top Control Dishwasher in Monochromatic Stainless Steel with Silverware Spray</td>\n",
       "      <td>Leave the cleaning decisions to this Whirlpool dishwasher with the Sensor cycle that automatically adjusts wash and dry settings to deliver precise results. This ENERGY STAR-qualified dishwasher h...</td>\n",
       "    </tr>\n",
       "    <tr>\n",
       "      <th>72600</th>\n",
       "      <td>2.67</td>\n",
       "      <td>1.962638</td>\n",
       "      <td>0.500361</td>\n",
       "      <td>philips multi cascading icicles</td>\n",
       "      <td>GE String-A-Long 300-Light Multi-Color Icicle Light Set</td>\n",
       "      <td>Create holiday magic with the GE String-A-Long 300-Light Multi-Color Icicle Light Set. Imagine the brilliant color of 54 individual icicle strands draped from eaves, rooflines, decks, fences and m...</td>\n",
       "    </tr>\n",
       "    <tr>\n",
       "      <th>28126</th>\n",
       "      <td>2.67</td>\n",
       "      <td>1.962661</td>\n",
       "      <td>0.500329</td>\n",
       "      <td>slider track caps</td>\n",
       "      <td>Richelieu Hardware 14 in. Accuride Full Extention Ball Bearing Drawer Slide</td>\n",
       "      <td>Richelieu collection is an innovator in craftsmanship design and style. Our trendy collection of decorative hardware is a reflection of our continuing interest in bringing you the latest selection...</td>\n",
       "    </tr>\n",
       "    <tr>\n",
       "      <th>23276</th>\n",
       "      <td>1.33</td>\n",
       "      <td>2.037339</td>\n",
       "      <td>0.500328</td>\n",
       "      <td>20 homelite bar</td>\n",
       "      <td>ECHO 72LPX70CQ Super 70 Chain for 20 in. Chainsaw Bar</td>\n",
       "      <td>This chainsaw bar chain can be used with the ECHO 20DOPS3870 or 20DOPD3870 bars. It features high quality square corner chisel cutters and a cutter coating that guards against corrosion.For use wi...</td>\n",
       "    </tr>\n",
       "    <tr>\n",
       "      <th>62909</th>\n",
       "      <td>3.00</td>\n",
       "      <td>2.292669</td>\n",
       "      <td>0.500317</td>\n",
       "      <td>through thewall air conditioner</td>\n",
       "      <td>Amana 9,300 BTU 230-Volt 26 in. Through-the-Wall Air Conditioner with Remote</td>\n",
       "      <td>Complete room comfort with easy to use electronic touch pad and remote control. Quiet and dependable operation with dehumidification. Energy efficient with models up to 10.4 EER to save you money,...</td>\n",
       "    </tr>\n",
       "    <tr>\n",
       "      <th>31265</th>\n",
       "      <td>3.00</td>\n",
       "      <td>2.292670</td>\n",
       "      <td>0.500315</td>\n",
       "      <td>show the pric of washer and dryer</td>\n",
       "      <td>Deco Washer and Electric Dryer in Silver</td>\n",
       "      <td>Deco 13 lb. super combo washer dryer is world's first convertible combo washer- dryer with optional venting or condensing drying. This unit has a water cooled system which is used to extract moist...</td>\n",
       "    </tr>\n",
       "    <tr>\n",
       "      <th>17171</th>\n",
       "      <td>3.00</td>\n",
       "      <td>2.292679</td>\n",
       "      <td>0.500302</td>\n",
       "      <td>black and decker battery charger</td>\n",
       "      <td>BLACK+DECKER 36-Volt Rechargeable Battery Pack</td>\n",
       "      <td>The BLACK &amp; DECKER RB-3612 Battery and Charger for all 36-Volt Mowers and Tillers replaces or adds a second battery and charger for CM1936, SPCM1936 and CTL36 mowers and tillers. This set includes...</td>\n",
       "    </tr>\n",
       "    <tr>\n",
       "      <th>47245</th>\n",
       "      <td>3.00</td>\n",
       "      <td>2.292690</td>\n",
       "      <td>0.500287</td>\n",
       "      <td>registers and grilles</td>\n",
       "      <td>SPEEDI-GRILLE 6 in. x 10 in. Steel Ceiling or Wall Register, White with Adjustable Single Deflection Diffuser</td>\n",
       "      <td>Now there is innovation in a Heating and Air register grilles. Are you tired of juggling tools and screws, especially on a ladder to install register grille covers. How difficult is it to try and ...</td>\n",
       "    </tr>\n",
       "    <tr>\n",
       "      <th>72247</th>\n",
       "      <td>3.00</td>\n",
       "      <td>2.292693</td>\n",
       "      <td>0.500283</td>\n",
       "      <td>24 hollow core closet dor</td>\n",
       "      <td>Masonite 24 in. x 80 in. Roman Smooth 2-Panel Round Top Hollow-Core Primed Composite Interior Closet Bi-fold Door</td>\n",
       "      <td>Enjoy the beauty of wood door authenticity with the benefits of composite door construction. Both innovative and stylish, the molded panel Masonite Roman Smooth 2-Panel Round Top Primed Composite ...</td>\n",
       "    </tr>\n",
       "    <tr>\n",
       "      <th>7717</th>\n",
       "      <td>2.67</td>\n",
       "      <td>1.962712</td>\n",
       "      <td>0.500256</td>\n",
       "      <td>3 1/2 inch cabinet pulls</td>\n",
       "      <td>Hickory Hardware Cavalier 3 in. Satin-Nickel Pull</td>\n",
       "      <td>This Transitional Pull showcasing a beautiful Satin-Nickel finish is part of our Cavalier family, providing the perfect decorative touch for your home. Every piece of decorative hardware we design...</td>\n",
       "    </tr>\n",
       "    <tr>\n",
       "      <th>44900</th>\n",
       "      <td>3.00</td>\n",
       "      <td>2.292717</td>\n",
       "      <td>0.500250</td>\n",
       "      <td>box cutter blades</td>\n",
       "      <td>Wiss 100 Heavy-Duty Round Tip Utility Knife Blade</td>\n",
       "      <td>The Wiss Utility Knife Blades are made of high quality steel. The replacement blades fit most utility knives. This version features round tips to help prevent puncturing.Heavy-duty bladesSharp poi...</td>\n",
       "    </tr>\n",
       "    <tr>\n",
       "      <th>64994</th>\n",
       "      <td>1.33</td>\n",
       "      <td>2.037280</td>\n",
       "      <td>0.500244</td>\n",
       "      <td>cable ties with mount</td>\n",
       "      <td>Commercial Electric 11 in. Cable Tie - Natural (500-Pack)</td>\n",
       "      <td>A cable fastening device provides strong support for positioning cable and pipe bundles. The design of its head guarantees a high tensile strength while allowing a very low insertion force. Produc...</td>\n",
       "    </tr>\n",
       "    <tr>\n",
       "      <th>31817</th>\n",
       "      <td>1.33</td>\n",
       "      <td>2.037247</td>\n",
       "      <td>0.500199</td>\n",
       "      <td>242x24x6</td>\n",
       "      <td>Pittsburgh Corning 24 in. x 24 in. LightWise IceScapes Pattern Aluminum-Clad Glass Block Window</td>\n",
       "      <td>Use the LightWise Pittsburgh Corning Aluminum-Clad Glass Block Window either in new construction or as a replacement. The Aluminum-Clad window comes with a setback nail fin for use with stucco and...</td>\n",
       "    </tr>\n",
       "    <tr>\n",
       "      <th>7127</th>\n",
       "      <td>2.67</td>\n",
       "      <td>1.962782</td>\n",
       "      <td>0.500157</td>\n",
       "      <td>Florescent Light Bulbs</td>\n",
       "      <td>ViaVolt 4 ft. T5 54-Watt Fluorescent Replacement Lamp</td>\n",
       "      <td>These high quality 4 ft. T5 HO lamps are excellent for all indoor gardening applications and plant propagation. Use the color/spectrum of your choice for the growth phase of your plants. Mix and m...</td>\n",
       "    </tr>\n",
       "    <tr>\n",
       "      <th>3868</th>\n",
       "      <td>3.00</td>\n",
       "      <td>2.292796</td>\n",
       "      <td>0.500138</td>\n",
       "      <td>kitchen sink faucet</td>\n",
       "      <td>MOEN Banbury Single-Handle Pull-Out Sprayer Kitchen Faucet in Spot Resist Stainless</td>\n",
       "      <td>The MOEN Banbury Single-Handle Pull-Out Sprayer Kitchen Faucet in Spot Resist Stainless offers a timeless and traditional look that is both classic and sensible. The Spot Resist finish avoids fing...</td>\n",
       "    </tr>\n",
       "    <tr>\n",
       "      <th>4743</th>\n",
       "      <td>1.00</td>\n",
       "      <td>1.707198</td>\n",
       "      <td>0.500129</td>\n",
       "      <td>steqamers</td>\n",
       "      <td>Roberts 4 in. Wide Floor and Wall Scraper and Stripper</td>\n",
       "      <td>The Roberts 12 in. handled floor and wall Scraper includes an angled head to provide clean shaving cutting action. Perfect for stripping floors, walls and wallpaper. Features three clamp screws fo...</td>\n",
       "    </tr>\n",
       "    <tr>\n",
       "      <th>27401</th>\n",
       "      <td>2.67</td>\n",
       "      <td>1.962815</td>\n",
       "      <td>0.500111</td>\n",
       "      <td>hug a plug dual wall outlet</td>\n",
       "      <td>Leviton 15 Amp Duplex Outlet - White (10-Pack)</td>\n",
       "      <td>Leviton's comprehensive Residential Grade Receptacles portfolio includes devices rated for all residential applications in a variety of standard configurations. They are produced in an array of co...</td>\n",
       "    </tr>\n",
       "    <tr>\n",
       "      <th>59032</th>\n",
       "      <td>3.00</td>\n",
       "      <td>2.292878</td>\n",
       "      <td>0.500022</td>\n",
       "      <td>cap and plug</td>\n",
       "      <td>Speedi-Products 5 in. Sheet Metal Round Cap / Plug</td>\n",
       "      <td>Speedi-Products 5 in. Sheet Metal Round Cap / Plug. Used to cap or pug round duct branch lines. Can be used for Remodeling, Do it yourself and New Residential projects.5 in. sheet metal round cap ...</td>\n",
       "    </tr>\n",
       "    <tr>\n",
       "      <th>67647</th>\n",
       "      <td>2.67</td>\n",
       "      <td>1.962887</td>\n",
       "      <td>0.500009</td>\n",
       "      <td>straight talk phone card</td>\n",
       "      <td>PayPal Here Mobile Card Reader V2</td>\n",
       "      <td>PayPal Here is the easiest way to accept any form of payment. Wherever your business goes, your sales can go too. Use the app or log in to PayPal on your desktop to manage and categorize your inve...</td>\n",
       "    </tr>\n",
       "  </tbody>\n",
       "</table>\n",
       "<p>9729 rows × 6 columns</p>\n",
       "</div>"
      ],
      "text/plain": [
       "       relevance      pred     error                          search_term  \\\n",
       "22585       1.00  2.770268  3.133848                         topiary tree   \n",
       "39506       1.00  2.762619  3.106825                          rachael ray   \n",
       "21313       1.00  2.746364  3.049789                           small tree   \n",
       "27963       1.00  2.743893  3.041164                          grape plant   \n",
       "31530       1.00  2.696071  2.876657                        copper faucet   \n",
       "43416       1.00  2.693520  2.868010                  laminate floor tile   \n",
       "32670       1.00  2.674037  2.802400                               linzer   \n",
       "53368       1.00  2.635210  2.673910                         mortar tools   \n",
       "44061       1.00  2.607376  2.583658                          solar vents   \n",
       "24792       1.00  2.602719  2.568709                          round beech   \n",
       "68083       1.00  2.599650  2.558881                           bird stops   \n",
       "52159       1.00  2.592529  2.536150                       red wood fence   \n",
       "49876       1.00  2.584836  2.511706                   ge slate microwave   \n",
       "45096       1.00  2.580752  2.498778                         strawberries   \n",
       "32384       1.00  2.580051  2.496561                  galvanized pipe 1/2   \n",
       "26250       1.00  2.571558  2.469794                     storm door black   \n",
       "65804       1.00  2.557206  2.424889                         alpine large   \n",
       "3322        1.00  2.556430  2.422474                         screen frame   \n",
       "58430       1.00  2.552446  2.410088                         bronze green   \n",
       "52380       1.00  2.550522  2.404118                           rock board   \n",
       "9378        1.00  2.547801  2.395689                       36 shower door   \n",
       "15971       1.00  2.546238  2.390851                        ego batteries   \n",
       "66916       3.00  1.463113  2.362021                                  vdk   \n",
       "63473       1.00  2.535938  2.359105                  aluminum door  trim   \n",
       "30572       1.00  2.532979  2.350024                          grape plant   \n",
       "51634       1.00  2.531646  2.345941                         14 ft ladder   \n",
       "35110       1.00  2.530439  2.342244                                valet   \n",
       "44980       1.00  2.524447  2.323937                         side shields   \n",
       "22364       1.00  2.521664  2.315462                              big ass   \n",
       "50053       1.00  2.512564  2.287850                 outdoor patio shades   \n",
       "...          ...       ...       ...                                  ...   \n",
       "62937       3.00  2.292217  0.500957       rustoleum primer for over rust   \n",
       "67692       1.67  2.377691  0.500827                     midesion cabinet   \n",
       "67655       3.00  2.292391  0.500711  under cabinet simplehuman trash can   \n",
       "51386       2.00  2.707603  0.500701                          DOWEL SCREW   \n",
       "25438       2.67  1.962455  0.500620                       cooktop 22 gas   \n",
       "58461       1.33  2.037460  0.500500            decorative duplicate keys   \n",
       "44213       3.00  2.292550  0.500486                               12 awg   \n",
       "38136       1.67  2.377440  0.500471                               floats   \n",
       "20956       1.33  2.037423  0.500447              2 wire splice connector   \n",
       "17785       2.67  1.962584  0.500438           kitchen ceiling lightening   \n",
       "25632       2.67  1.962588  0.500432                  carpet runners 3 ft   \n",
       "6532        1.67  2.377383  0.500390                       whirpool range   \n",
       "72600       2.67  1.962638  0.500361      philips multi cascading icicles   \n",
       "28126       2.67  1.962661  0.500329                    slider track caps   \n",
       "23276       1.33  2.037339  0.500328                      20 homelite bar   \n",
       "62909       3.00  2.292669  0.500317      through thewall air conditioner   \n",
       "31265       3.00  2.292670  0.500315    show the pric of washer and dryer   \n",
       "17171       3.00  2.292679  0.500302     black and decker battery charger   \n",
       "47245       3.00  2.292690  0.500287                registers and grilles   \n",
       "72247       3.00  2.292693  0.500283            24 hollow core closet dor   \n",
       "7717        2.67  1.962712  0.500256             3 1/2 inch cabinet pulls   \n",
       "44900       3.00  2.292717  0.500250                    box cutter blades   \n",
       "64994       1.33  2.037280  0.500244                cable ties with mount   \n",
       "31817       1.33  2.037247  0.500199                             242x24x6   \n",
       "7127        2.67  1.962782  0.500157               Florescent Light Bulbs   \n",
       "3868        3.00  2.292796  0.500138                  kitchen sink faucet   \n",
       "4743        1.00  1.707198  0.500129                            steqamers   \n",
       "27401       2.67  1.962815  0.500111          hug a plug dual wall outlet   \n",
       "59032       3.00  2.292878  0.500022                         cap and plug   \n",
       "67647       2.67  1.962887  0.500009             straight talk phone card   \n",
       "\n",
       "                                                                                                                                  product_title  \\\n",
       "22585                                                                                                  Romano 4 ft. Boxwood Spiral Topiary Tree   \n",
       "39506                                                                                                       Rachael Ray 10 qt. Covered Stockpot   \n",
       "21313                                                                                             Tree Trainer Small Self-Supporting Tree Brace   \n",
       "27963                                                                                       Oakland Living 26 in. Metal Grape Table Plant Stand   \n",
       "31530                                                                            BrassCraft 3/8 in. O.D. x 36 in. Copper Faucet Riser in Chrome   \n",
       "43416                                                                                           Bona Stone, Tile and Laminate Floor Care System   \n",
       "32670                                                                     Linzer 9 in. x 3/8 in. Medium-Density Polyester Roller Cover (6-Pack)   \n",
       "53368                                                                                     Buffalo Tools Folding Mortar Board Stand-DISCONTINUED   \n",
       "44061                                                              Master Flow 24 VDC Replacement Motor for Solar and Dual-Powered Series Vents   \n",
       "24792                                           Zamma Beech Blocked 5/8 in. Thick x 3/4 in. Wide x 94 in. Length Laminate Quarter Round Molding   \n",
       "68083                                                                                             Heath Bird Stop Blue Ceramic Wild Bird Feeder   \n",
       "52159                                                                       BEHR 1-gal. #SC-112 Barn Red Solid Color House and Fence Wood Stain   \n",
       "49876                                                                          GE 36 in. Over-the-Range Microwave Accessory Filler Kit in Slate   \n",
       "45096                                                                                                Viagrow Strawberry Planter Vertical Garden   \n",
       "32384                                                                             Superstrut 1-1/2 in. Universal Pipe Clamp - Silver Galvanized   \n",
       "26250                                                                          Prime-Line Storm Door Closer, with Shock Spring Heavy Duty Black   \n",
       "65804                                                                                              Alpine 15 in. Large Red Bowl Plastic Planter   \n",
       "3322                                                                       New York Wire Brown 5/16 in. Screen Frame Corners (4-Pack) FSP8571-U   \n",
       "58430                                                                                      Green Matters 3-Light Mahogany Bronze Vanity Fixture   \n",
       "52380                                               Rock-On #9 x 2-1/4 in. Phillips High Low Threaded Wafer-Head Cement Board Screws (100-Pack)   \n",
       "9378                                                    Showerdoordirect 36 in. Frameless Shower Door Seal with Wipe for 3/8 in. Glass in Clear   \n",
       "15971                                                  EGO 24 in. 56-Volt Lithium-ion Cordless Hedge Trimmer - Battery and Charger Not Included   \n",
       "66916                                                                                    BDK Warner Brothers Batman Carpet Floor Mats (4-Piece)   \n",
       "63473                                                                    Global Door Controls Entry Ball Knob Lock Exit Device Trim in Aluminum   \n",
       "30572                                                                                     Daylily Grape Magic Bare Root Dormant Plants (8-Pack)   \n",
       "51634                                       Werner 14 ft. Fiberglass Round Rung Straight Ladder with 375 lb. Load Capacity Type IAA Duty Rating   \n",
       "35110                                                                                                      Cover Valet Spa Cover Lift and Caddy   \n",
       "44980                                                                                   Earthquake 212cc Tiller Rear Tine CRT with Side Shields   \n",
       "22364                                                                     Big Ass Fans 3600 144 in. Yellow and Silver Aluminum Shop Ceiling Fan   \n",
       "50053                                         Patio Living Concepts Bahama Weave 34 in. Dark Mahogany Outdoor Table Lamp with Straw Linen Shade   \n",
       "...                                                                                                                                         ...   \n",
       "62937                                                                                 Rust-Oleum Stops Rust 1 qt. Flat White Clean Metal Primer   \n",
       "67692                                                                                  Laurey Mission Bay 1-3/8 in. Antique Pewter Cabinet Knob   \n",
       "67655                                                                                               simplehuman 10 l Black In-Cabinet Trash Can   \n",
       "51386                                                                            Everbilt 5/32 in. x 1-1/4 in. Zinc-Plated Everbilt Dowel Screw   \n",
       "25438                                       Cub Cadet XT1 Enduro Series LT 46 in. 22 HP V-Twin Kohler Hydrostatic Gas Front-Engine Riding Mower   \n",
       "58461                                                         Southern Enterprises 12.5 in. x 31.25 in. Key Decorative Wall Panel Set (2-Piece)   \n",
       "44213  Gardner Bender Uni-Lok #22 - #12 AWG (3 mmå_) Multi-Range Winged Twist-On Connectors with Easy-Twist Nylon Housing - Yellow (100/Carton)   \n",
       "38136                                                         Hedrix 11 oz. Match of PPWC-15 Hope Floats Semi-Gloss Custom Spray Paint (2-Pack)   \n",
       "20956                                                                                    Tyco Electronics Butt Splices Vinyl 22-18 AWG 100/Clam   \n",
       "17785                                                                         Progress Lighting Appeal 2-Light Brushed Nickel Square Flushmount   \n",
       "25632                                                                             Mohawk Home Frise Shag Kingsgold 3 ft. 4 in. x 5 ft. Area Rug   \n",
       "6532                                        Whirlpool Gold Series Top Control Dishwasher in Monochromatic Stainless Steel with Silverware Spray   \n",
       "72600                                                                                   GE String-A-Long 300-Light Multi-Color Icicle Light Set   \n",
       "28126                                                               Richelieu Hardware 14 in. Accuride Full Extention Ball Bearing Drawer Slide   \n",
       "23276                                                                                     ECHO 72LPX70CQ Super 70 Chain for 20 in. Chainsaw Bar   \n",
       "62909                                                              Amana 9,300 BTU 230-Volt 26 in. Through-the-Wall Air Conditioner with Remote   \n",
       "31265                                                                                                  Deco Washer and Electric Dryer in Silver   \n",
       "17171                                                                                            BLACK+DECKER 36-Volt Rechargeable Battery Pack   \n",
       "47245                             SPEEDI-GRILLE 6 in. x 10 in. Steel Ceiling or Wall Register, White with Adjustable Single Deflection Diffuser   \n",
       "72247                         Masonite 24 in. x 80 in. Roman Smooth 2-Panel Round Top Hollow-Core Primed Composite Interior Closet Bi-fold Door   \n",
       "7717                                                                                          Hickory Hardware Cavalier 3 in. Satin-Nickel Pull   \n",
       "44900                                                                                         Wiss 100 Heavy-Duty Round Tip Utility Knife Blade   \n",
       "64994                                                                                 Commercial Electric 11 in. Cable Tie - Natural (500-Pack)   \n",
       "31817                                           Pittsburgh Corning 24 in. x 24 in. LightWise IceScapes Pattern Aluminum-Clad Glass Block Window   \n",
       "7127                                                                                      ViaVolt 4 ft. T5 54-Watt Fluorescent Replacement Lamp   \n",
       "3868                                                        MOEN Banbury Single-Handle Pull-Out Sprayer Kitchen Faucet in Spot Resist Stainless   \n",
       "4743                                                                                     Roberts 4 in. Wide Floor and Wall Scraper and Stripper   \n",
       "27401                                                                                            Leviton 15 Amp Duplex Outlet - White (10-Pack)   \n",
       "59032                                                                                        Speedi-Products 5 in. Sheet Metal Round Cap / Plug   \n",
       "67647                                                                                                         PayPal Here Mobile Card Reader V2   \n",
       "\n",
       "                                                                                                                                                                                           product_description  \n",
       "22585  Enhance your home with a Romano Boxwood Spiral Topiary Tree. This wonderful full bodied Boxwood Spiral Topiary Tree keeps its colors when all the rest lose their color and leaves. You can always l...  \n",
       "39506  Whether you're boiling pasta, making a batch of chili or cooking grains, this large, 10 quart stockpot is just the right size. When it's not on the stovetop, its two short side handles help it tak...  \n",
       "21313  The Tree Trainer is an innovative product award winner through the American Nursery and Landscape Association. Designed as an environmentally safe product that has been engineered for durability. ...  \n",
       "27963  The Oakland Living 26 in. Metal Grape Table Plant Stand offers a sturdy and beautiful place to keep plants on display. This stand is made from cast iron for durability with an antique bronze powde...  \n",
       "31530  BrassCraft 3/8 in. O.D. tube x 36 in. length chrome-plated copper riser for faucet installations features one-piece formed metal nosepiece with insert. Cut-to-Length for flexible fit with a clean,...  \n",
       "43416  Use the Bona Stone, Tile and Laminate Floor Care System to clean hard-surface floors in your home. The 4-piece kit includes a mop, microfiber cleaning and dusting pads and a 32 oz. spray bottle of...  \n",
       "32670  The 9 in. x 3/8 in. Medium-Density Polyester Roller Covers (6-Pack) are for use with both oil-based and latex paints. These rollers are reusable if washed with water or mineral spirits after each ...  \n",
       "53368  Red Snapr insulators are made from only the highest grade, high density polyethylene that results in a rugged, durable construction. They are UV-protected to resist weathering, even under the hars...  \n",
       "44061  The SLRM105 is the replacement motor for all Master Flow Green Machine Solar Powered Roof Vents.  It can be used with Master Flow Solar and Dual-powered models. Brushless 24 VDC motor.Replaceable ...  \n",
       "24792  Beech Blocked Quarter Round is used to accent the transitions from baseboard to floor surface, especially in retrofitted floors where the baseboard typically is not removed. The quarter round prov...  \n",
       "68083  The Bird Stop Blue Ceramic Wild Bird Feeder features a blend of ceramic and metal construction. The circular openings are ideal for feeding sunflower seeds, shelled peanuts or mealworms. Holds up ...  \n",
       "52159  The BEHR Solid Color House and Fence Paint is an advanced exterior stain, combining the best features of oil and latex for superior color retention, adhesion, penetration and durability. It provid...  \n",
       "49876  Your 36 in. Over-the-Range Microwave Trim Kit provides a custom appearance and built-in convenience for your GE or GE Profile microwave. GE appliances provide up-to-date technology and exceptional...  \n",
       "45096  The Viagrow Strawberry Planter allows you to grow your own strawberries utilizing a vertical planting design maximizing the number of plants you can grow per square foot. Vertical strawberry growt...  \n",
       "32384  Suspend electrical pipes and tubing from the ceiling by using the Superstrut 1-1/2 in. Conduit Clamp. This clamp accommodates 12- or 14-Gauge metal framing channel.Clamps a 1-1/2 in. conduit for c...  \n",
       "26250  This storm and screen door closer comes finished in aluminum. It features adjustable closing speed and includes a shock spring. This style closer is used on medium to heavy weight doors.Heavy duty...  \n",
       "65804  These bowl planters are perfect for patios and decks. Available in a variety of sizes and colors they can meet any need, or taste and are very durable. Accent any outdoor landscape or outdoor livi...  \n",
       "3322   The 5/16\" Screen Frame Corners are used to build or repair a screen frame. The plastic corners are made to fit into the channel of a 5/16\" frame. Build or repair your screen frame with these easy ...  \n",
       "58430  The cornerstone of this collection is quality, and this incandescent vanity is no exception. Combining a classic mahogany bronze finish and posh styling, you will find no better way to highlight t...  \n",
       "52380  Rock-On #9 x 2-1/4 in. High-Low Threaded Wafer-Head Phillips Cement Board Screws (100-Pack) are ideal for attaching cement board to wood and light-Gauge steel. Use Rock-On screws for a variety of ...  \n",
       "9378   The seal can be used for the bottom of the door or it can be used as a seal on the side of a door. This design allows for quick and easy install, as it snaps on the door. The part is specifically ...  \n",
       "15971  The EGO POWER+ Hedge Trimmer delivers performance equal to or better than many premium gas-powered models without the noise, fuss and fumes. 24 in. hardened-steel, dual-action, blades and extended...  \n",
       "66916  Warner Brothers Batman carpet floor mats will enhance your vehicles interior while showing off your lighter side. The carpet floor mats features and benefits are made of polyester material, non-sl...  \n",
       "63473  The Global Door Controls keyed ball knob entry comes in aluminum finish and is an accessory trim for a touch/panic bar exit device. The knob trim features a Schlage C keyway. Durable and a perfect...  \n",
       "30572  Daylilies are vigorous perennial that require little care in the garden once established. Daylilies adapt to a wide range of growing conditions and establish quickly and survive winters with littl...  \n",
       "51634  The 7114-1 one-section round rung 14 ft. Straight Ladder is made with non-conductive fiberglass rails. Easy to transport and maneuver, these ladders bear a duty rating of 375 lbs. making them dura...  \n",
       "35110  Spa Cover Caddy's unique design allows this premium cover lifter to be installed on a number of spa shapes and sizes, including square, rectangular, round & octagonal. The caddy under-mount base p...  \n",
       "44980  The Earthquake 6015V rear tine rototiller delivers the ultimate combination of power and size. Rear-mounted tines till stubborn dirt easily with a high-performance 212cc Viper engine. We have engi...  \n",
       "22364  Want air movement without noise. You've got it. The Big Ass Fan 3600 is a money-saving, statement-making, air-moving machine. The 12 ft. wingspan creates serious airflow for spaces up to 3,600 sq....  \n",
       "50053  Carefree resin durability, while adding elegance to any outdoor living area. All weather wicker woven base adds dramatic appeal. Lamp features all resin construction with heavy weighted base. Two ...  \n",
       "...                                                                                                                                                                                                        ...  \n",
       "62937  The Rust-Oleum Stops Rust 32 oz. Clean Metal Flat Rust Preventive Primer is designed for use on lightly rusted metals and works well on bare and previously painted metals. This primer can be used ...  \n",
       "67692  Laurey is America's Finest Quality Cabinet Hardware. Laurey features the most innovative styling, original marketing ideas and a dedication to service that is truly unparalleled. Laurey quality me...  \n",
       "67655  The simplehuman in-cabinet trash can hang inside your kitchen cabinet door for quick and easy access while you are busy at the kitchen counter. For a cleaner look, it can be mounted directly onto ...  \n",
       "51386  Dowel screws are headless bolts designed to join materials in wooden structures. Each end has a wood screw thread with a pointed end. Commonly used to attach legs to tables and chairs, but can be ...  \n",
       "25438  The Cub Cadet XT1 46 in. riding mower features category leading strength, comfort and versatility. It's loaded with a 22 HP Kohler V-Twin OHV engine for powerful performance and a hydrostatic tran...  \n",
       "58461  This set includes 2-wall panels which each feature a raised key design; one panel is off-white and the other is blue, while the key is a very worn and scraped away black finish. Each panel feature...  \n",
       "44213  GB's exclusive Uni-Lok Universal Wire Connector is a versatile and cost effective connector designed to accept a wide range of wire combinations. Unlike other connectors made with a hard polypropy...  \n",
       "38136  Matched to PPWC-15 Hope Floats, this high-quality fast-dry spray paint provides an ultra-smooth, durable, high-hiding coating that is great for interior or exterior use. It is suitable for metal, ...  \n",
       "20956  Tyco Electronic's solderless crimp terminals and connectors are available in a variety of configurations for a multitude of applications. These universal connectors can be used for just about any ...  \n",
       "17785  Clean design with elegant lines is complemented by a satin finish, alabaster glass shade. Simple glass installation using only one thumbscrew provides both easy access for changing light bulbs and...  \n",
       "25632  The Mohawk Home Frise Shag Kingsgold 3 ft. 4 in. x 5 ft. Area Rug features a contemporary shag design and a gold color to help add a touch of elegance to your living space. The rug is stain resist...  \n",
       "6532   Leave the cleaning decisions to this Whirlpool dishwasher with the Sensor cycle that automatically adjusts wash and dry settings to deliver precise results. This ENERGY STAR-qualified dishwasher h...  \n",
       "72600  Create holiday magic with the GE String-A-Long 300-Light Multi-Color Icicle Light Set. Imagine the brilliant color of 54 individual icicle strands draped from eaves, rooflines, decks, fences and m...  \n",
       "28126  Richelieu collection is an innovator in craftsmanship design and style. Our trendy collection of decorative hardware is a reflection of our continuing interest in bringing you the latest selection...  \n",
       "23276  This chainsaw bar chain can be used with the ECHO 20DOPS3870 or 20DOPD3870 bars. It features high quality square corner chisel cutters and a cutter coating that guards against corrosion.For use wi...  \n",
       "62909  Complete room comfort with easy to use electronic touch pad and remote control. Quiet and dependable operation with dehumidification. Energy efficient with models up to 10.4 EER to save you money,...  \n",
       "31265  Deco 13 lb. super combo washer dryer is world's first convertible combo washer- dryer with optional venting or condensing drying. This unit has a water cooled system which is used to extract moist...  \n",
       "17171  The BLACK & DECKER RB-3612 Battery and Charger for all 36-Volt Mowers and Tillers replaces or adds a second battery and charger for CM1936, SPCM1936 and CTL36 mowers and tillers. This set includes...  \n",
       "47245  Now there is innovation in a Heating and Air register grilles. Are you tired of juggling tools and screws, especially on a ladder to install register grille covers. How difficult is it to try and ...  \n",
       "72247  Enjoy the beauty of wood door authenticity with the benefits of composite door construction. Both innovative and stylish, the molded panel Masonite Roman Smooth 2-Panel Round Top Primed Composite ...  \n",
       "7717   This Transitional Pull showcasing a beautiful Satin-Nickel finish is part of our Cavalier family, providing the perfect decorative touch for your home. Every piece of decorative hardware we design...  \n",
       "44900  The Wiss Utility Knife Blades are made of high quality steel. The replacement blades fit most utility knives. This version features round tips to help prevent puncturing.Heavy-duty bladesSharp poi...  \n",
       "64994  A cable fastening device provides strong support for positioning cable and pipe bundles. The design of its head guarantees a high tensile strength while allowing a very low insertion force. Produc...  \n",
       "31817  Use the LightWise Pittsburgh Corning Aluminum-Clad Glass Block Window either in new construction or as a replacement. The Aluminum-Clad window comes with a setback nail fin for use with stucco and...  \n",
       "7127   These high quality 4 ft. T5 HO lamps are excellent for all indoor gardening applications and plant propagation. Use the color/spectrum of your choice for the growth phase of your plants. Mix and m...  \n",
       "3868   The MOEN Banbury Single-Handle Pull-Out Sprayer Kitchen Faucet in Spot Resist Stainless offers a timeless and traditional look that is both classic and sensible. The Spot Resist finish avoids fing...  \n",
       "4743   The Roberts 12 in. handled floor and wall Scraper includes an angled head to provide clean shaving cutting action. Perfect for stripping floors, walls and wallpaper. Features three clamp screws fo...  \n",
       "27401  Leviton's comprehensive Residential Grade Receptacles portfolio includes devices rated for all residential applications in a variety of standard configurations. They are produced in an array of co...  \n",
       "59032  Speedi-Products 5 in. Sheet Metal Round Cap / Plug. Used to cap or pug round duct branch lines. Can be used for Remodeling, Do it yourself and New Residential projects.5 in. sheet metal round cap ...  \n",
       "67647  PayPal Here is the easiest way to accept any form of payment. Wherever your business goes, your sales can go too. Use the app or log in to PayPal on your desktop to manage and categorize your inve...  \n",
       "\n",
       "[9729 rows x 6 columns]"
      ]
     },
     "execution_count": 122,
     "metadata": {},
     "output_type": "execute_result"
    }
   ],
   "source": [
    "cols = ['relevance', 'pred', 'error', 'search_term', 'product_title', 'product_description']\n",
    "df_train[df_train.error > 0.5][cols].sort_values(['error'], ascending=False)"
   ]
  },
  {
   "cell_type": "code",
   "execution_count": 97,
   "metadata": {
    "collapsed": false
   },
   "outputs": [
    {
     "data": {
      "text/plain": [
       "Unnamed: 0                                                                                                                                                                                                                               9625\n",
       "id                                                                                                                                                                                                                                      29899\n",
       "product_title                                                                                                                                                                           Westinghouse Ceiling Fan and Light White Wall Control\n",
       "product_uid                                                                                                                                                                                                                            106452\n",
       "relevance                                                                                                                                                                                                                                   1\n",
       "search_term                                                                                                                                                                                                                         wall fans\n",
       "product_description                   The Westinghouse Ceiling Fan and Light Wall Control replaces an existing wall switch with convenient fan speed and light controls without having to reach for a pull chain. It offers 3 convenient s...\n",
       "attr_count                                                                                                                                                                                                                                 16\n",
       "attr_texts                            Operates 3 fan speeds: high, medium, low and off with full-range touch dimmer allowing you to set the perfect fan speed and light level\\tMatching white wall plate creates a finished appearance\\tRe...\n",
       "brand                                                                                                                                                                                                                            Westinghouse\n",
       "owl_search_term                                                                                                                                                                                                                      wall fan\n",
       "owl_product_title                                                                                                                                                                           westinghous ceil fan and light white wall control\n",
       "owl_product_description               the westinghous ceil fan and light wall control replac an exist wall switch with conveni fan speed and light control without have to reach for a pull chain it offer 3 conveni speed (highmediumlowo...\n",
       "owl_brand                                                                                                                                                                                                                         westinghous\n",
       "owl_product_info                      wall fan\\twestinghous ceil fan and light white wall control\\tthe westinghous ceil fan and light wall control replac an exist wall switch with conveni fan speed and light control without have to re...\n",
       "owl_len_of_query                                                                                                                                                                                                                            2\n",
       "owl_len_of_title                                                                                                                                                                                                                            8\n",
       "owl_len_of_description                                                                                                                                                                                                                    220\n",
       "owl_len_of_brand                                                                                                                                                                                                                            1\n",
       "owl_query_in_title                                                                                                                                                                                                                          0\n",
       "owl_query_in_description                                                                                                                                                                                                                    0\n",
       "owl_query_last_word_in_title                                                                                                                                                                                                                1\n",
       "owl_query_last_word_in_description                                                                                                                                                                                                          1\n",
       "owl_word_in_title                                                                                                                                                                                                                           2\n",
       "owl_word_in_description                                                                                                                                                                                                                     2\n",
       "owl_ratio_title                                                                                                                                                                                                                             1\n",
       "owl_ratio_description                                                                                                                                                                                                                       1\n",
       "owl_attr                                                                                                                                                                                                                wall fan\\twestinghous\n",
       "owl_word_in_brand                                                                                                                                                                                                                           0\n",
       "owl_ratio_brand                                                                                                                                                                                                                             0\n",
       "                                                                                                                                       ...                                                                                                   \n",
       "all_text_len_char                                                                                                                                                                                                                        1892\n",
       "all_text_len_word                                                                                                                                                                                                                         308\n",
       "all_text_len_ratio                                                                                                                                                                                                                   0.162791\n",
       "search_text_len_char                                                                                                                                                                                                                        9\n",
       "search_text_len_word                                                                                                                                                                                                                        2\n",
       "search_text_len_ratio                                                                                                                                                                                                                0.222222\n",
       "brand_text_len_char                                                                                                                                                                                                                        12\n",
       "brand_text_len_word                                                                                                                                                                                                                         1\n",
       "brand_text_len_ratio                                                                                                                                                                                                                0.0833333\n",
       "title_text_len_char                                                                                                                                                                                                                        53\n",
       "title_text_len_word                                                                                                                                                                                                                         8\n",
       "title_text_len_ratio                                                                                                                                                                                                                 0.150943\n",
       "desc_text_len_char                                                                                                                                                                                                                       1324\n",
       "desc_text_len_word                                                                                                                                                                                                                        213\n",
       "desc_text_len_ratio                                                                                                                                                                                                                  0.160876\n",
       "attr_text_len_char                                                                                                                                                                                                                        490\n",
       "attr_text_len_word                                                                                                                                                                                                                         84\n",
       "attr_text_len_ratio                                                                                                                                                                                                                  0.171429\n",
       "all_cosine_similarity                                                                                                                                                                                                                0.130126\n",
       "title_cosine_similarity                                                                                                                                                                                                              0.120575\n",
       "desc_cosine_similarity                                                                                                                                                                                                               0.117705\n",
       "brand_cosine_similarity                                                                                                                                                                                                                     0\n",
       "attr_cosine_similarity                                                                                                                                                                                                               0.125227\n",
       "jaccard_search_title                                                                                                                                                                                                                 0.111111\n",
       "jaccard_search_desc                                                                                                                                                                                                                0.00884956\n",
       "jaccard_search_brand                                                                                                                                                                                                                        0\n",
       "jaccard_search_attr                                                                                                                                                                                                                 0.0172414\n",
       "product_freq                                                                                                                                                                                                                                6\n",
       "error                                                                                                                                                                                                                                 2.68028\n",
       "pred                                                                                                                                                                                                                                  2.63716\n",
       "Name: 9625, dtype: object"
      ]
     },
     "execution_count": 97,
     "metadata": {},
     "output_type": "execute_result"
    }
   ],
   "source": [
    "df_train.iloc[9625]"
   ]
  },
  {
   "cell_type": "code",
   "execution_count": 312,
   "metadata": {
    "collapsed": true
   },
   "outputs": [],
   "source": [
    "def create_feature_map(features):\n",
    "    outfile = open('/tmp/xgb.fmap', 'w')\n",
    "    i = 0\n",
    "    for feat in features:\n",
    "        outfile.write('{0}\\t{1}\\tq\\n'.format(i, feat))\n",
    "        i = i + 1\n",
    "\n",
    "    outfile.close()"
   ]
  },
  {
   "cell_type": "code",
   "execution_count": 313,
   "metadata": {
    "collapsed": true
   },
   "outputs": [],
   "source": [
    "create_feature_map(ColumnSelector(columns=categorial_features).columns + \\\n",
    "                   ColumnSelector(columns=numerical_features).columns)"
   ]
  },
  {
   "cell_type": "code",
   "execution_count": 314,
   "metadata": {
    "collapsed": false
   },
   "outputs": [
    {
     "name": "stdout",
     "output_type": "stream",
     "text": [
      "CPU times: user 7min 24s, sys: 18.9 s, total: 7min 43s\n",
      "Wall time: 1min 23s\n"
     ]
    }
   ],
   "source": [
    "%%time\n",
    "xgb_params = {\"objective\": \"reg:linear\", \"eta\": 0.05, \"max_depth\": 10, \"seed\": 2016, \"silent\": 1,\n",
    "              \"n_estimators\": 100, \"min_child_weight\": 1.5, \"colsample_bytree\": 0.5}\n",
    "num_rounds = 1000\n",
    "dtrain = xgb.DMatrix(clf.steps[0][-1].transform(df_train), label=y_train)\n",
    "gbdt = xgb.train(xgb_params, dtrain, num_rounds)"
   ]
  },
  {
   "cell_type": "code",
   "execution_count": 315,
   "metadata": {
    "collapsed": false
   },
   "outputs": [
    {
     "data": {
      "text/html": [
       "<div>\n",
       "<table border=\"1\" class=\"dataframe\">\n",
       "  <thead>\n",
       "    <tr style=\"text-align: right;\">\n",
       "      <th></th>\n",
       "      <th>feature</th>\n",
       "      <th>importance</th>\n",
       "    </tr>\n",
       "  </thead>\n",
       "  <tbody>\n",
       "    <tr>\n",
       "      <th>0</th>\n",
       "      <td>jaccard_search_brand</td>\n",
       "      <td>0.000891</td>\n",
       "    </tr>\n",
       "    <tr>\n",
       "      <th>1</th>\n",
       "      <td>owl_query_in_title</td>\n",
       "      <td>0.001308</td>\n",
       "    </tr>\n",
       "    <tr>\n",
       "      <th>2</th>\n",
       "      <td>twq</td>\n",
       "      <td>0.001435</td>\n",
       "    </tr>\n",
       "    <tr>\n",
       "      <th>3</th>\n",
       "      <td>search_text_len_word</td>\n",
       "      <td>0.001550</td>\n",
       "    </tr>\n",
       "    <tr>\n",
       "      <th>4</th>\n",
       "      <td>owl_ratio_brand</td>\n",
       "      <td>0.001585</td>\n",
       "    </tr>\n",
       "    <tr>\n",
       "      <th>5</th>\n",
       "      <td>brand_text_len_word</td>\n",
       "      <td>0.002318</td>\n",
       "    </tr>\n",
       "    <tr>\n",
       "      <th>6</th>\n",
       "      <td>owl_word_in_brand</td>\n",
       "      <td>0.002557</td>\n",
       "    </tr>\n",
       "    <tr>\n",
       "      <th>7</th>\n",
       "      <td>owl_query_in_description</td>\n",
       "      <td>0.002597</td>\n",
       "    </tr>\n",
       "    <tr>\n",
       "      <th>8</th>\n",
       "      <td>bigram_brand</td>\n",
       "      <td>0.003462</td>\n",
       "    </tr>\n",
       "    <tr>\n",
       "      <th>9</th>\n",
       "      <td>owl_query_last_word_in_description</td>\n",
       "      <td>0.003598</td>\n",
       "    </tr>\n",
       "    <tr>\n",
       "      <th>10</th>\n",
       "      <td>unigram_brand</td>\n",
       "      <td>0.003759</td>\n",
       "    </tr>\n",
       "    <tr>\n",
       "      <th>11</th>\n",
       "      <td>owl_query_last_word_in_title</td>\n",
       "      <td>0.004141</td>\n",
       "    </tr>\n",
       "    <tr>\n",
       "      <th>12</th>\n",
       "      <td>owl_len_of_brand</td>\n",
       "      <td>0.004179</td>\n",
       "    </tr>\n",
       "    <tr>\n",
       "      <th>13</th>\n",
       "      <td>len_of_query</td>\n",
       "      <td>0.004181</td>\n",
       "    </tr>\n",
       "    <tr>\n",
       "      <th>14</th>\n",
       "      <td>title_text_len_word</td>\n",
       "      <td>0.005372</td>\n",
       "    </tr>\n",
       "    <tr>\n",
       "      <th>15</th>\n",
       "      <td>query_in_title</td>\n",
       "      <td>0.005990</td>\n",
       "    </tr>\n",
       "    <tr>\n",
       "      <th>16</th>\n",
       "      <td>owl_word_in_description</td>\n",
       "      <td>0.007592</td>\n",
       "    </tr>\n",
       "    <tr>\n",
       "      <th>17</th>\n",
       "      <td>owl_word_in_title</td>\n",
       "      <td>0.008415</td>\n",
       "    </tr>\n",
       "    <tr>\n",
       "      <th>18</th>\n",
       "      <td>owl_ratio_title</td>\n",
       "      <td>0.008438</td>\n",
       "    </tr>\n",
       "    <tr>\n",
       "      <th>19</th>\n",
       "      <td>color_id</td>\n",
       "      <td>0.009559</td>\n",
       "    </tr>\n",
       "    <tr>\n",
       "      <th>20</th>\n",
       "      <td>owl_ratio_description</td>\n",
       "      <td>0.009622</td>\n",
       "    </tr>\n",
       "    <tr>\n",
       "      <th>21</th>\n",
       "      <td>owl_len_of_query</td>\n",
       "      <td>0.010442</td>\n",
       "    </tr>\n",
       "    <tr>\n",
       "      <th>22</th>\n",
       "      <td>desc_text_len_word</td>\n",
       "      <td>0.011164</td>\n",
       "    </tr>\n",
       "    <tr>\n",
       "      <th>23</th>\n",
       "      <td>product_freq</td>\n",
       "      <td>0.011946</td>\n",
       "    </tr>\n",
       "    <tr>\n",
       "      <th>24</th>\n",
       "      <td>attr_text_len_word</td>\n",
       "      <td>0.012349</td>\n",
       "    </tr>\n",
       "    <tr>\n",
       "      <th>25</th>\n",
       "      <td>brand_text_len_char</td>\n",
       "      <td>0.012740</td>\n",
       "    </tr>\n",
       "    <tr>\n",
       "      <th>26</th>\n",
       "      <td>product_depth</td>\n",
       "      <td>0.013171</td>\n",
       "    </tr>\n",
       "    <tr>\n",
       "      <th>27</th>\n",
       "      <td>jaccard_search_title</td>\n",
       "      <td>0.013559</td>\n",
       "    </tr>\n",
       "    <tr>\n",
       "      <th>28</th>\n",
       "      <td>len_of_title</td>\n",
       "      <td>0.013723</td>\n",
       "    </tr>\n",
       "    <tr>\n",
       "      <th>29</th>\n",
       "      <td>search_text_len_char</td>\n",
       "      <td>0.013761</td>\n",
       "    </tr>\n",
       "    <tr>\n",
       "      <th>...</th>\n",
       "      <td>...</td>\n",
       "      <td>...</td>\n",
       "    </tr>\n",
       "    <tr>\n",
       "      <th>36</th>\n",
       "      <td>desc_text_len_char</td>\n",
       "      <td>0.016061</td>\n",
       "    </tr>\n",
       "    <tr>\n",
       "      <th>37</th>\n",
       "      <td>search_text_len_ratio</td>\n",
       "      <td>0.017350</td>\n",
       "    </tr>\n",
       "    <tr>\n",
       "      <th>38</th>\n",
       "      <td>all_text_len_word</td>\n",
       "      <td>0.017376</td>\n",
       "    </tr>\n",
       "    <tr>\n",
       "      <th>39</th>\n",
       "      <td>owl_search_term_feature</td>\n",
       "      <td>0.018552</td>\n",
       "    </tr>\n",
       "    <tr>\n",
       "      <th>40</th>\n",
       "      <td>attr_text_len_char</td>\n",
       "      <td>0.019095</td>\n",
       "    </tr>\n",
       "    <tr>\n",
       "      <th>41</th>\n",
       "      <td>title_text_len_char</td>\n",
       "      <td>0.019647</td>\n",
       "    </tr>\n",
       "    <tr>\n",
       "      <th>42</th>\n",
       "      <td>bigram_description</td>\n",
       "      <td>0.019691</td>\n",
       "    </tr>\n",
       "    <tr>\n",
       "      <th>43</th>\n",
       "      <td>owl_brand_feature</td>\n",
       "      <td>0.019739</td>\n",
       "    </tr>\n",
       "    <tr>\n",
       "      <th>44</th>\n",
       "      <td>jaccard_search_desc</td>\n",
       "      <td>0.019791</td>\n",
       "    </tr>\n",
       "    <tr>\n",
       "      <th>45</th>\n",
       "      <td>owl_len_of_title</td>\n",
       "      <td>0.020001</td>\n",
       "    </tr>\n",
       "    <tr>\n",
       "      <th>46</th>\n",
       "      <td>unigram_bigram_desc_desc_golden</td>\n",
       "      <td>0.020729</td>\n",
       "    </tr>\n",
       "    <tr>\n",
       "      <th>47</th>\n",
       "      <td>bigram_attributes</td>\n",
       "      <td>0.020988</td>\n",
       "    </tr>\n",
       "    <tr>\n",
       "      <th>48</th>\n",
       "      <td>unigram_description</td>\n",
       "      <td>0.020993</td>\n",
       "    </tr>\n",
       "    <tr>\n",
       "      <th>49</th>\n",
       "      <td>desc_text_len_ratio</td>\n",
       "      <td>0.022681</td>\n",
       "    </tr>\n",
       "    <tr>\n",
       "      <th>50</th>\n",
       "      <td>bigram_title</td>\n",
       "      <td>0.023101</td>\n",
       "    </tr>\n",
       "    <tr>\n",
       "      <th>51</th>\n",
       "      <td>unigram_title_all_golden</td>\n",
       "      <td>0.023297</td>\n",
       "    </tr>\n",
       "    <tr>\n",
       "      <th>52</th>\n",
       "      <td>bigram_all</td>\n",
       "      <td>0.023728</td>\n",
       "    </tr>\n",
       "    <tr>\n",
       "      <th>53</th>\n",
       "      <td>all_text_len_char</td>\n",
       "      <td>0.024300</td>\n",
       "    </tr>\n",
       "    <tr>\n",
       "      <th>54</th>\n",
       "      <td>unigram_all</td>\n",
       "      <td>0.024916</td>\n",
       "    </tr>\n",
       "    <tr>\n",
       "      <th>55</th>\n",
       "      <td>title_text_len_ratio</td>\n",
       "      <td>0.025339</td>\n",
       "    </tr>\n",
       "    <tr>\n",
       "      <th>56</th>\n",
       "      <td>all_text_len_ratio</td>\n",
       "      <td>0.025531</td>\n",
       "    </tr>\n",
       "    <tr>\n",
       "      <th>57</th>\n",
       "      <td>owl_unigram_all</td>\n",
       "      <td>0.025695</td>\n",
       "    </tr>\n",
       "    <tr>\n",
       "      <th>58</th>\n",
       "      <td>owl_len_of_description</td>\n",
       "      <td>0.026575</td>\n",
       "    </tr>\n",
       "    <tr>\n",
       "      <th>59</th>\n",
       "      <td>ngram_all</td>\n",
       "      <td>0.026831</td>\n",
       "    </tr>\n",
       "    <tr>\n",
       "      <th>60</th>\n",
       "      <td>unigram_title</td>\n",
       "      <td>0.027004</td>\n",
       "    </tr>\n",
       "    <tr>\n",
       "      <th>61</th>\n",
       "      <td>owl_unigram_title</td>\n",
       "      <td>0.028373</td>\n",
       "    </tr>\n",
       "    <tr>\n",
       "      <th>62</th>\n",
       "      <td>query_id</td>\n",
       "      <td>0.029359</td>\n",
       "    </tr>\n",
       "    <tr>\n",
       "      <th>63</th>\n",
       "      <td>ngram_title</td>\n",
       "      <td>0.030532</td>\n",
       "    </tr>\n",
       "    <tr>\n",
       "      <th>64</th>\n",
       "      <td>attr_text_len_ratio</td>\n",
       "      <td>0.032419</td>\n",
       "    </tr>\n",
       "    <tr>\n",
       "      <th>65</th>\n",
       "      <td>product_uid</td>\n",
       "      <td>0.033333</td>\n",
       "    </tr>\n",
       "  </tbody>\n",
       "</table>\n",
       "<p>66 rows × 2 columns</p>\n",
       "</div>"
      ],
      "text/plain": [
       "                               feature  importance\n",
       "0                 jaccard_search_brand    0.000891\n",
       "1                   owl_query_in_title    0.001308\n",
       "2                                  twq    0.001435\n",
       "3                 search_text_len_word    0.001550\n",
       "4                      owl_ratio_brand    0.001585\n",
       "5                  brand_text_len_word    0.002318\n",
       "6                    owl_word_in_brand    0.002557\n",
       "7             owl_query_in_description    0.002597\n",
       "8                         bigram_brand    0.003462\n",
       "9   owl_query_last_word_in_description    0.003598\n",
       "10                       unigram_brand    0.003759\n",
       "11        owl_query_last_word_in_title    0.004141\n",
       "12                    owl_len_of_brand    0.004179\n",
       "13                        len_of_query    0.004181\n",
       "14                 title_text_len_word    0.005372\n",
       "15                      query_in_title    0.005990\n",
       "16             owl_word_in_description    0.007592\n",
       "17                   owl_word_in_title    0.008415\n",
       "18                     owl_ratio_title    0.008438\n",
       "19                            color_id    0.009559\n",
       "20               owl_ratio_description    0.009622\n",
       "21                    owl_len_of_query    0.010442\n",
       "22                  desc_text_len_word    0.011164\n",
       "23                        product_freq    0.011946\n",
       "24                  attr_text_len_word    0.012349\n",
       "25                 brand_text_len_char    0.012740\n",
       "26                       product_depth    0.013171\n",
       "27                jaccard_search_title    0.013559\n",
       "28                        len_of_title    0.013723\n",
       "29                search_text_len_char    0.013761\n",
       "..                                 ...         ...\n",
       "36                  desc_text_len_char    0.016061\n",
       "37               search_text_len_ratio    0.017350\n",
       "38                   all_text_len_word    0.017376\n",
       "39             owl_search_term_feature    0.018552\n",
       "40                  attr_text_len_char    0.019095\n",
       "41                 title_text_len_char    0.019647\n",
       "42                  bigram_description    0.019691\n",
       "43                   owl_brand_feature    0.019739\n",
       "44                 jaccard_search_desc    0.019791\n",
       "45                    owl_len_of_title    0.020001\n",
       "46     unigram_bigram_desc_desc_golden    0.020729\n",
       "47                   bigram_attributes    0.020988\n",
       "48                 unigram_description    0.020993\n",
       "49                 desc_text_len_ratio    0.022681\n",
       "50                        bigram_title    0.023101\n",
       "51            unigram_title_all_golden    0.023297\n",
       "52                          bigram_all    0.023728\n",
       "53                   all_text_len_char    0.024300\n",
       "54                         unigram_all    0.024916\n",
       "55                title_text_len_ratio    0.025339\n",
       "56                  all_text_len_ratio    0.025531\n",
       "57                     owl_unigram_all    0.025695\n",
       "58              owl_len_of_description    0.026575\n",
       "59                           ngram_all    0.026831\n",
       "60                       unigram_title    0.027004\n",
       "61                   owl_unigram_title    0.028373\n",
       "62                            query_id    0.029359\n",
       "63                         ngram_title    0.030532\n",
       "64                 attr_text_len_ratio    0.032419\n",
       "65                         product_uid    0.033333\n",
       "\n",
       "[66 rows x 2 columns]"
      ]
     },
     "execution_count": 315,
     "metadata": {},
     "output_type": "execute_result"
    },
    {
     "data": {
      "image/png": "[encoded data removed]",
      "text/plain": [
       "<matplotlib.figure.Figure at 0x2ccc2c390>"
      ]
     },
     "metadata": {},
     "output_type": "display_data"
    }
   ],
   "source": [
    "importance = gbdt.get_fscore(fmap='/tmp/xgb.fmap')\n",
    "importance = sorted(importance.items(), key=operator.itemgetter(1))\n",
    "\n",
    "df_xgb_imp = pd.DataFrame(importance, columns=['feature', 'importance'])\n",
    "df_xgb_imp['importance'] = df_xgb_imp['importance'] / df_xgb_imp['importance'].sum()\n",
    "\n",
    "f, ax = plt.subplots(figsize=(15, 30))\n",
    "a = sns.barplot(x='importance', y='feature', data=df_xgb_imp.sort_values(by='importance', ascending=False))\n",
    "\n",
    "df_xgb_imp"
   ]
  },
  {
   "cell_type": "code",
   "execution_count": 316,
   "metadata": {
    "collapsed": false
   },
   "outputs": [
    {
     "name": "stdout",
     "output_type": "stream",
     "text": [
      "'product_uid',\n",
      "'attr_text_len_ratio',\n",
      "'ngram_title',\n",
      "'query_id',\n",
      "'owl_unigram_title',\n",
      "'unigram_title',\n",
      "'ngram_all',\n",
      "'owl_len_of_description',\n",
      "'owl_unigram_all',\n",
      "'all_text_len_ratio',\n",
      "'title_text_len_ratio',\n",
      "'unigram_all',\n",
      "'all_text_len_char',\n",
      "'bigram_all',\n",
      "'unigram_title_all_golden',\n",
      "'bigram_title',\n",
      "'desc_text_len_ratio',\n",
      "'unigram_description',\n",
      "'bigram_attributes',\n",
      "'unigram_bigram_desc_desc_golden',\n",
      "'owl_len_of_title',\n",
      "'jaccard_search_desc',\n",
      "'owl_brand_feature',\n",
      "'bigram_description',\n",
      "'title_text_len_char',\n",
      "'attr_text_len_char',\n",
      "'owl_search_term_feature',\n",
      "'all_text_len_word',\n",
      "'search_text_len_ratio',\n",
      "'desc_text_len_char',\n",
      "'product_weight',\n",
      "'product_width',\n",
      "'product_height',\n",
      "'jaccard_search_attr',\n",
      "'brand_text_len_ratio',\n",
      "'product_size',\n",
      "'search_text_len_char',\n",
      "'len_of_title',\n",
      "'jaccard_search_title',\n",
      "'product_depth',\n",
      "'brand_text_len_char',\n",
      "'attr_text_len_word',\n",
      "'product_freq',\n",
      "'desc_text_len_word',\n",
      "'owl_len_of_query',\n",
      "'owl_ratio_description',\n",
      "'color_id',\n",
      "'owl_ratio_title',\n",
      "'owl_word_in_title',\n",
      "'owl_word_in_description',\n",
      "'query_in_title',\n",
      "'title_text_len_word',\n",
      "'len_of_query',\n",
      "'owl_len_of_brand',\n",
      "'owl_query_last_word_in_title',\n",
      "'unigram_brand',\n",
      "'owl_query_last_word_in_description',\n",
      "'bigram_brand',\n",
      "'owl_query_in_description',\n",
      "'owl_word_in_brand',\n",
      "'brand_text_len_word',\n",
      "'owl_ratio_brand',\n",
      "'search_text_len_word',\n",
      "'twq',\n",
      "'owl_query_in_title',\n",
      "'jaccard_search_brand',\n"
     ]
    }
   ],
   "source": [
    "for feature in df_xgb_imp.sort_values(by='importance', ascending=False).feature:\n",
    "    print(\"'{}',\".format(feature))"
   ]
  },
  {
   "cell_type": "markdown",
   "metadata": {},
   "source": [
    "# Submission"
   ]
  },
  {
   "cell_type": "code",
   "execution_count": 257,
   "metadata": {
    "collapsed": true
   },
   "outputs": [],
   "source": [
    "X_test = df_test[:]"
   ]
  },
  {
   "cell_type": "code",
   "execution_count": 258,
   "metadata": {
    "collapsed": false
   },
   "outputs": [
    {
     "data": {
      "text/plain": [
       "(166693, 77)"
      ]
     },
     "execution_count": 258,
     "metadata": {},
     "output_type": "execute_result"
    }
   ],
   "source": [
    "X_test.shape"
   ]
  },
  {
   "cell_type": "code",
   "execution_count": 259,
   "metadata": {
    "collapsed": false
   },
   "outputs": [],
   "source": [
    "y_pred = clf.predict(X_test)"
   ]
  },
  {
   "cell_type": "code",
   "execution_count": 260,
   "metadata": {
    "collapsed": true
   },
   "outputs": [],
   "source": [
    "pd.DataFrame({\"id\": id_test, \"relevance\": y_pred}).to_csv('submission.csv', index=False)"
   ]
  },
  {
   "cell_type": "code",
   "execution_count": null,
   "metadata": {
    "collapsed": true
   },
   "outputs": [],
   "source": []
  }
 ],
 "metadata": {
  "kernelspec": {
   "display_name": "Python 3",
   "language": "python",
   "name": "python3"
  },
  "language_info": {
   "codemirror_mode": {
    "name": "ipython",
    "version": 3
   },
   "file_extension": ".py",
   "mimetype": "text/x-python",
   "name": "python",
   "nbconvert_exporter": "python",
   "pygments_lexer": "ipython3",
   "version": "3.5.1"
  }
 },
 "nbformat": 4,
 "nbformat_minor": 0
}
